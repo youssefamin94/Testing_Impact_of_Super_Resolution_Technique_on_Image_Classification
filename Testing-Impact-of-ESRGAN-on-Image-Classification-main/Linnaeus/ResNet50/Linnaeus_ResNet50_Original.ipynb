{
  "cells": [
    {
      "cell_type": "code",
      "execution_count": null,
      "metadata": {
        "colab": {
          "base_uri": "https://localhost:8080/"
        },
        "id": "D3Ia0U52FiwQ",
        "outputId": "35406791-1324-4695-daeb-ad0b4fafdede"
      },
      "outputs": [
        {
          "output_type": "stream",
          "name": "stdout",
          "text": [
            "Drive already mounted at /content/drive; to attempt to forcibly remount, call drive.mount(\"/content/drive\", force_remount=True).\n"
          ]
        }
      ],
      "source": [
        "from google.colab import drive\n",
        "drive.mount('/content/drive')"
      ],
      "id": "D3Ia0U52FiwQ"
    },
    {
      "cell_type": "code",
      "execution_count": null,
      "metadata": {
        "colab": {
          "base_uri": "https://localhost:8080/"
        },
        "id": "t59C9xfLFili",
        "outputId": "7a763054-b887-4ee4-bd27-8aaee6d9948a"
      },
      "outputs": [
        {
          "output_type": "stream",
          "name": "stdout",
          "text": [
            "Archive:  /content/drive/MyDrive/GP/Linnaeus_org_128.zip\n",
            "replace Linnaeus org 128/.DS_Store? [y]es, [n]o, [A]ll, [N]one, [r]ename: "
          ]
        }
      ],
      "source": [
        "!unzip /content/drive/MyDrive/GP/Linnaeus_org_128.zip"
      ],
      "id": "t59C9xfLFili"
    },
    {
      "cell_type": "code",
      "execution_count": null,
      "metadata": {
        "id": "331622b1"
      },
      "outputs": [],
      "source": [
        "import numpy as np # linear algebra\n",
        "import pandas as pd # data processing, CSV file I/O (e.g. pd.read_csv)\n",
        "from sklearn.utils.multiclass import unique_labels\n",
        "\n",
        "# Input data files are available in the \"../input/\" directory.\n",
        "# For example, running this (by clicking run or pressing Shift+Enter) will list the files in the input directory\n",
        "\n",
        "import os"
      ],
      "id": "331622b1"
    },
    {
      "cell_type": "code",
      "execution_count": null,
      "metadata": {
        "id": "0636c791"
      },
      "outputs": [],
      "source": [
        "import matplotlib.pyplot as plt\n",
        "import matplotlib.image as mpimg\n",
        "import seaborn as sns\n",
        "%matplotlib inline\n",
        "''' to learn more about itertools visit\n",
        "    https://medium.com/@jasonrigden/a-guide-to-python-itertools-82e5a306cdf8'''\n",
        "import itertools\n",
        "from sklearn.model_selection import train_test_split\n",
        "from sklearn.metrics import confusion_matrix"
      ],
      "id": "0636c791"
    },
    {
      "cell_type": "code",
      "execution_count": null,
      "metadata": {
        "id": "3bc165d1"
      },
      "outputs": [],
      "source": [
        "#Import keras functions\n",
        "\n",
        "from keras import Sequential\n",
        "\n",
        "'''Since we are using transfer learning let's import the model that we want to implement.Let's use VGG 19(19 layers) and Resnet-50 (50 layers of residual units). \n",
        "Residual units allow us to add more layers onto the model without a degradation in accuracy.\n",
        "Let's try and compare the accuracy of the 2 models and see if the addtional layers do make a significant difference. '''\n",
        "\n",
        "from keras.applications import VGG19,ResNet50\n",
        "\n",
        "'Import the datagenerator to augment images'\n",
        "from keras.preprocessing.image import ImageDataGenerator\n",
        "\n",
        "'''Import the optimizers and leanring rate annealer (which will reduce the learning rate once a particular metric we choose(in this case validation error) \n",
        "does not reduce after a user defined number of epochs)'''\n",
        "from keras.optimizers import SGD,Adam\n",
        "from keras.callbacks import ReduceLROnPlateau\n",
        "\n",
        "'Lastly import the final layers that will be added on top of the base model'\n",
        "from keras.layers import Flatten,Dense,BatchNormalization,Activation,Dropout\n",
        "\n",
        "'Import to_categorical from the keras utils package to one hot encode the labels'\n",
        "from keras.utils import to_categorical"
      ],
      "id": "3bc165d1"
    },
    {
      "cell_type": "code",
      "execution_count": null,
      "metadata": {
        "id": "61c92605"
      },
      "outputs": [],
      "source": [
        "#Data Augmentation Function: Let's define an instance of the ImageDataGenerator class and set the parameters.We have to instantiate for the Train,Validation and Test datasets\n",
        "train_generator = ImageDataGenerator()\n",
        "\n",
        "\n",
        "val_generator = ImageDataGenerator()\n",
        "\n",
        "test_generator = ImageDataGenerator() "
      ],
      "id": "61c92605"
    },
    {
      "cell_type": "code",
      "execution_count": null,
      "metadata": {
        "id": "790a26b5"
      },
      "outputs": [],
      "source": [
        "src_path_train = \"/content/Linnaeus org 128/train\"\n",
        "src_path_val = \"/content/Linnaeus org 128/val\"\n",
        "src_path_test = \"/content/Linnaeus org 128/test\""
      ],
      "id": "790a26b5"
    },
    {
      "cell_type": "code",
      "execution_count": null,
      "metadata": {
        "colab": {
          "base_uri": "https://localhost:8080/"
        },
        "id": "e0f33a4e",
        "outputId": "843f445b-b86b-4324-e373-7108d72b28ac"
      },
      "outputs": [
        {
          "output_type": "stream",
          "name": "stdout",
          "text": [
            "Found 4800 images belonging to 5 classes.\n",
            "Found 1200 images belonging to 5 classes.\n",
            "Found 2000 images belonging to 5 classes.\n"
          ]
        }
      ],
      "source": [
        "#Fit the augmentation method to the data\n",
        "train_generatorr = train_generator.flow_from_directory(src_path_train,\n",
        "                                                    class_mode='categorical',\n",
        "                                                    batch_size=32,\n",
        "                                                    color_mode=\"rgb\",\n",
        "                                                    target_size=(128,128),\n",
        "                                                    shuffle=False,\n",
        "                                                    seed=42)\n",
        "\n",
        "validation_generator = train_generator.flow_from_directory(src_path_val,\n",
        "                                                        target_size=(128,128),\n",
        "                                                        batch_size=32,\n",
        "                                                        color_mode=\"rgb\",\n",
        "                                                        class_mode='categorical',\n",
        "                                                        shuffle=False,\n",
        "                                                        seed=42)\n",
        "test_generatorr = test_generator.flow_from_directory(\n",
        "    src_path_test,\n",
        "    target_size=(128,128),\n",
        "    color_mode=\"rgb\",\n",
        "    batch_size=1,\n",
        "    class_mode=\"categorical\",\n",
        "    shuffle=False,\n",
        "    seed=42\n",
        ")"
      ],
      "id": "e0f33a4e"
    },
    {
      "cell_type": "code",
      "execution_count": null,
      "metadata": {
        "id": "a8fa2c81"
      },
      "outputs": [],
      "source": [
        "lrr= ReduceLROnPlateau(verbose = 1,\n",
        "                       monitor='val_loss', #Metric to be measured\n",
        "                       factor=.1, #Factor by which learning rate will be reduced\n",
        "                       patience=4,  #No. of epochs after which if there is no improvement in the val_acc, the learning rate is reduced\n",
        "                       min_lr=1e-7,\n",
        "                       min_delta = 0.001) #The minimum learning rate "
      ],
      "id": "a8fa2c81"
    },
    {
      "cell_type": "code",
      "execution_count": null,
      "metadata": {
        "id": "48ae1e2f"
      },
      "outputs": [],
      "source": [
        "base_model_2 = ResNet50(include_top=False,weights='imagenet',input_shape=(128,128,3),classes=5)"
      ],
      "id": "48ae1e2f"
    },
    {
      "cell_type": "code",
      "execution_count": null,
      "metadata": {
        "id": "991b8ea3"
      },
      "outputs": [],
      "source": [
        "#Since we have already defined Resnet50 as base_model_2, let us build the sequential model.\n",
        "\n",
        "import tensorflow as tf\n",
        "rn=tf.keras.initializers.RandomNormal(mean=0.0, stddev=0.05,seed=42)\n",
        "\n",
        "model_2=Sequential()\n",
        "#Add the Dense layers along with activation and batch normalization\n",
        "model_2.add(base_model_2)\n",
        "model_2.add(Flatten())\n",
        "\n",
        "\n",
        "#Add the Dense layers along with activation and batch normalization\n",
        "model_2.add(Dense(64,activation=('relu'), kernel_initializer=rn,))\n",
        "model_2.add(Dropout(.5, seed = 42))\n",
        "model_2.add(Dense(5,activation=('softmax'),kernel_initializer=rn)) #This is the classification layer"
      ],
      "id": "991b8ea3"
    },
    {
      "cell_type": "code",
      "execution_count": null,
      "metadata": {
        "id": "p6-AShQzJ6YI"
      },
      "outputs": [],
      "source": [
        "model_2.layers[0].trainable = False"
      ],
      "id": "p6-AShQzJ6YI"
    },
    {
      "cell_type": "code",
      "source": [],
      "metadata": {
        "id": "KXddUyrR2fUy"
      },
      "id": "KXddUyrR2fUy",
      "execution_count": null,
      "outputs": []
    },
    {
      "cell_type": "code",
      "execution_count": null,
      "metadata": {
        "colab": {
          "base_uri": "https://localhost:8080/"
        },
        "id": "e2e49c94",
        "outputId": "27e6ce1c-4c86-4fb6-de7d-fb7820261aaf"
      },
      "outputs": [
        {
          "output_type": "stream",
          "name": "stdout",
          "text": [
            "Model: \"sequential\"\n",
            "_________________________________________________________________\n",
            " Layer (type)                Output Shape              Param #   \n",
            "=================================================================\n",
            " resnet50 (Functional)       (None, 4, 4, 2048)        23587712  \n",
            "                                                                 \n",
            " flatten (Flatten)           (None, 32768)             0         \n",
            "                                                                 \n",
            " dense (Dense)               (None, 64)                2097216   \n",
            "                                                                 \n",
            " dropout (Dropout)           (None, 64)                0         \n",
            "                                                                 \n",
            " dense_1 (Dense)             (None, 5)                 325       \n",
            "                                                                 \n",
            "=================================================================\n",
            "Total params: 25,685,253\n",
            "Trainable params: 2,097,541\n",
            "Non-trainable params: 23,587,712\n",
            "_________________________________________________________________\n"
          ]
        }
      ],
      "source": [
        "model_2.summary()"
      ],
      "id": "e2e49c94"
    },
    {
      "cell_type": "code",
      "execution_count": null,
      "metadata": {
        "id": "9a263abd",
        "colab": {
          "base_uri": "https://localhost:8080/"
        },
        "outputId": "383a132c-32b9-43ed-d688-6b086b321511"
      },
      "outputs": [
        {
          "output_type": "stream",
          "name": "stderr",
          "text": [
            "/usr/local/lib/python3.9/dist-packages/keras/optimizers/optimizer_v2/adam.py:117: UserWarning: The `lr` argument is deprecated, use `learning_rate` instead.\n",
            "  super().__init__(name, **kwargs)\n"
          ]
        }
      ],
      "source": [
        "learn_rate=.00001\n",
        "\n",
        "#sgd=SGD(lr=learn_rate,momentum=.9,nesterov=False)\n",
        "adam=Adam(lr=learn_rate, beta_1=0.9, beta_2=0.999, epsilon=None, decay=0.0, amsgrad=False)"
      ],
      "id": "9a263abd"
    },
    {
      "cell_type": "code",
      "execution_count": null,
      "metadata": {
        "id": "ae54c544"
      },
      "outputs": [],
      "source": [
        "model_2.compile(optimizer=adam,loss='categorical_crossentropy',metrics=['accuracy'])"
      ],
      "id": "ae54c544"
    },
    {
      "cell_type": "code",
      "execution_count": null,
      "metadata": {
        "colab": {
          "base_uri": "https://localhost:8080/",
          "height": 246
        },
        "id": "fc23e1e9",
        "outputId": "3362d61b-8e3e-4052-845b-fd6afd231c5e"
      },
      "outputs": [
        {
          "output_type": "error",
          "ename": "NameError",
          "evalue": "ignored",
          "traceback": [
            "\u001b[0;31m---------------------------------------------------------------------------\u001b[0m",
            "\u001b[0;31mNameError\u001b[0m                                 Traceback (most recent call last)",
            "\u001b[0;32m<ipython-input-2-3a971b7b00d3>\u001b[0m in \u001b[0;36m<module>\u001b[0;34m\u001b[0m\n\u001b[0;32m----> 1\u001b[0;31m hist = model_2.fit_generator(train_generatorr,\n\u001b[0m\u001b[1;32m      2\u001b[0m                       \u001b[0mepochs\u001b[0m\u001b[0;34m=\u001b[0m\u001b[0;36m5\u001b[0m\u001b[0;34m,\u001b[0m\u001b[0;34m\u001b[0m\u001b[0;34m\u001b[0m\u001b[0m\n\u001b[1;32m      3\u001b[0m                       \u001b[0msteps_per_epoch\u001b[0m \u001b[0;34m=\u001b[0m \u001b[0mtrain_generatorr\u001b[0m\u001b[0;34m.\u001b[0m\u001b[0msamples\u001b[0m \u001b[0;34m//\u001b[0m \u001b[0;36m32\u001b[0m\u001b[0;34m,\u001b[0m\u001b[0;34m\u001b[0m\u001b[0;34m\u001b[0m\u001b[0m\n\u001b[1;32m      4\u001b[0m                       \u001b[0mvalidation_data\u001b[0m \u001b[0;34m=\u001b[0m \u001b[0mvalidation_generator\u001b[0m\u001b[0;34m,\u001b[0m\u001b[0;34m\u001b[0m\u001b[0;34m\u001b[0m\u001b[0m\n\u001b[1;32m      5\u001b[0m                       \u001b[0mvalidation_steps\u001b[0m \u001b[0;34m=\u001b[0m \u001b[0mvalidation_generator\u001b[0m\u001b[0;34m.\u001b[0m\u001b[0msamples\u001b[0m \u001b[0;34m//\u001b[0m \u001b[0;36m32\u001b[0m\u001b[0;34m,\u001b[0m\u001b[0;34m\u001b[0m\u001b[0;34m\u001b[0m\u001b[0m\n",
            "\u001b[0;31mNameError\u001b[0m: name 'model_2' is not defined"
          ]
        }
      ],
      "source": [
        "hist = model_2.fit_generator(train_generatorr,\n",
        "                      epochs=5,\n",
        "                      steps_per_epoch = train_generatorr.samples // 32,\n",
        "                      validation_data = validation_generator,\n",
        "                      validation_steps = validation_generator.samples // 32,\n",
        "                      callbacks = [lrr],\n",
        "                      verbose=1)"
      ],
      "id": "fc23e1e9"
    },
    {
      "cell_type": "code",
      "execution_count": null,
      "metadata": {
        "colab": {
          "base_uri": "https://localhost:8080/",
          "height": 295
        },
        "id": "e39cc4e4",
        "outputId": "0c8df71e-ff0a-4ed8-9ba9-07fe116cfcad"
      },
      "outputs": [
        {
          "data": {
            "image/png": "[encoded data removed]",
            "text/plain": [
              "<Figure size 432x288 with 1 Axes>"
            ]
          },
          "metadata": {},
          "output_type": "display_data"
        }
      ],
      "source": [
        "plt.plot(hist.history['accuracy'])\n",
        "plt.plot(hist.history['val_accuracy'])\n",
        "plt.title('model accuracy')\n",
        "plt.ylabel('accuracy')\n",
        "plt.xlabel('epoch')\n",
        "plt.legend(['train', 'validation'], loc='upper left')\n",
        "plt.ylim(0, 1)\n",
        "plt.show()"
      ],
      "id": "e39cc4e4"
    },
    {
      "cell_type": "code",
      "execution_count": null,
      "metadata": {
        "colab": {
          "base_uri": "https://localhost:8080/",
          "height": 295
        },
        "id": "0aa2034e",
        "outputId": "e4f3aa4d-61a8-482d-f1c2-1e1b691b2e87"
      },
      "outputs": [
        {
          "data": {
            "image/png": "[encoded data removed]",
            "text/plain": [
              "<Figure size 432x288 with 1 Axes>"
            ]
          },
          "metadata": {},
          "output_type": "display_data"
        }
      ],
      "source": [
        "# summarize history for loss\n",
        "plt.plot(hist.history['loss'])\n",
        "plt.plot(hist.history['val_loss'])\n",
        "plt.title('model loss')\n",
        "plt.ylabel('loss')\n",
        "plt.xlabel('epoch')\n",
        "plt.legend(['train', 'validation'], loc='upper right')\n",
        "plt.ylim(0,1)\n",
        "plt.show()"
      ],
      "id": "0aa2034e"
    },
    {
      "cell_type": "code",
      "execution_count": null,
      "metadata": {
        "colab": {
          "base_uri": "https://localhost:8080/"
        },
        "id": "W44ycm57VfdS",
        "outputId": "b8c70e41-e153-47f5-9344-360ce19522f3"
      },
      "outputs": [
        {
          "name": "stdout",
          "output_type": "stream",
          "text": [
            "2000/2000 [==============================] - 33s 16ms/step - loss: 0.2671 - accuracy: 0.9265\n",
            "[0.26712483167648315, 0.9265000224113464]\n"
          ]
        }
      ],
      "source": [
        "predict = model_2.evaluate(test_generatorr)\n",
        "# predict the class label\n",
        "print(predict)"
      ],
      "id": "W44ycm57VfdS"
    },
    {
      "cell_type": "code",
      "execution_count": null,
      "metadata": {
        "colab": {
          "base_uri": "https://localhost:8080/",
          "height": 172
        },
        "id": "t0mYoII9Z_01",
        "outputId": "561800ce-e077-416c-e795-d5b32d86e9e4"
      },
      "outputs": [
        {
          "output_type": "error",
          "ename": "NameError",
          "evalue": "ignored",
          "traceback": [
            "\u001b[0;31m---------------------------------------------------------------------------\u001b[0m",
            "\u001b[0;31mNameError\u001b[0m                                 Traceback (most recent call last)",
            "\u001b[0;32m<ipython-input-2-21540223bf97>\u001b[0m in \u001b[0;36m<module>\u001b[0;34m\u001b[0m\n\u001b[0;32m----> 1\u001b[0;31m \u001b[0mmodel_2\u001b[0m\u001b[0;34m.\u001b[0m\u001b[0msave\u001b[0m\u001b[0;34m(\u001b[0m\u001b[0;34m\"model_INTEL_Orginal.h5\"\u001b[0m\u001b[0;34m)\u001b[0m\u001b[0;34m\u001b[0m\u001b[0;34m\u001b[0m\u001b[0m\n\u001b[0m",
            "\u001b[0;31mNameError\u001b[0m: name 'model_2' is not defined"
          ]
        }
      ],
      "source": [
        "model_2.save(\"model_INTEL_Orginal.h5\")"
      ],
      "id": "t0mYoII9Z_01"
    },
    {
      "cell_type": "code",
      "execution_count": null,
      "metadata": {
        "id": "YLs42NUOqsQK"
      },
      "outputs": [],
      "source": [],
      "id": "YLs42NUOqsQK"
    }
  ],
  "metadata": {
    "accelerator": "GPU",
    "colab": {
      "provenance": []
    },
    "gpuClass": "standard",
    "kernelspec": {
      "display_name": "Python 3 (ipykernel)",
      "language": "python",
      "name": "python3"
    },
    "language_info": {
      "codemirror_mode": {
        "name": "ipython",
        "version": 3
      },
      "file_extension": ".py",
      "mimetype": "text/x-python",
      "name": "python",
      "nbconvert_exporter": "python",
      "pygments_lexer": "ipython3",
      "version": "3.9.13"
    }
  },
  "nbformat": 4,
  "nbformat_minor": 5
}