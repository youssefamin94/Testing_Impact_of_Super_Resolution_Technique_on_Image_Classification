{
  "nbformat": 4,
  "nbformat_minor": 0,
  "metadata": {
    "colab": {
      "provenance": []
    },
    "kernelspec": {
      "name": "python3",
      "display_name": "Python 3"
    },
    "language_info": {
      "name": "python"
    },
    "accelerator": "GPU",
    "gpuClass": "standard"
  },
  "cells": [
    {
      "cell_type": "code",
      "execution_count": 1,
      "metadata": {
        "colab": {
          "base_uri": "https://localhost:8080/"
        },
        "id": "1VUoZT4bVrJ5",
        "outputId": "d3c7e135-3d00-4dfa-99eb-ac909c8430d0"
      },
      "outputs": [
        {
          "output_type": "stream",
          "name": "stdout",
          "text": [
            "Mounted at /content/drive\n"
          ]
        }
      ],
      "source": [
        "from google.colab import drive\n",
        "drive.mount('/content/drive')"
      ]
    },
    {
      "cell_type": "markdown",
      "source": [],
      "metadata": {
        "id": "VQilm2rYfkxi"
      }
    },
    {
      "cell_type": "code",
      "source": [
        "!unzip /content/drive/MyDrive/Linnaeus_Esrgan.zip"
      ],
      "metadata": {
        "id": "HdCgMuiQWEzz"
      },
      "execution_count": null,
      "outputs": []
    },
    {
      "cell_type": "code",
      "source": [
        "import numpy as np # linear algebra\n",
        "import pandas as pd # data processing, CSV file I/O (e.g. pd.read_csv)\n",
        "from sklearn.utils.multiclass import unique_labels\n",
        "\n",
        "# Input data files are available in the \"../input/\" directory.\n",
        "# For example, running this (by clicking run or pressing Shift+Enter) will list the files in the input directory\n",
        "\n",
        "import os\n",
        "import shutil"
      ],
      "metadata": {
        "id": "y-LSfdkSWZak"
      },
      "execution_count": 9,
      "outputs": []
    },
    {
      "cell_type": "code",
      "source": [
        "import matplotlib.pyplot as plt\n",
        "import matplotlib.image as mpimg\n",
        "import seaborn as sns\n",
        "%matplotlib inline\n",
        "''' to learn more about itertools visit\n",
        "    https://medium.com/@jasonrigden/a-guide-to-python-itertools-82e5a306cdf8'''\n",
        "import itertools\n",
        "from sklearn.model_selection import train_test_split\n",
        "from sklearn.metrics import confusion_matrix"
      ],
      "metadata": {
        "id": "xru7MHP2Wcid"
      },
      "execution_count": 4,
      "outputs": []
    },
    {
      "cell_type": "code",
      "source": [
        "#Import keras functions\n",
        "\n",
        "from keras import Sequential\n",
        "\n",
        "'''Since we are using transfer learning let's import the model that we want to implement.Let's use VGG 19(19 layers) and Resnet-50 (50 layers of residual units). \n",
        "Residual units allow us to add more layers onto the model without a degradation in accuracy.\n",
        "Let's try and compare the accuracy of the 2 models and see if the addtional layers do make a significant difference. '''\n",
        "\n",
        "from keras.applications import VGG19,ResNet50\n",
        "\n",
        "'Import the datagenerator to augment images'\n",
        "from keras.preprocessing.image import ImageDataGenerator\n",
        "\n",
        "'''Import the optimizers and leanring rate annealer (which will reduce the learning rate once a particular metric we choose(in this case validation error) \n",
        "does not reduce after a user defined number of epochs)'''\n",
        "from keras.optimizers import SGD,Adam\n",
        "from keras.callbacks import ReduceLROnPlateau\n",
        "\n",
        "'Lastly import the final layers that will be added on top of the base model'\n",
        "from keras.layers import Flatten,Dense,BatchNormalization,Activation,Dropout\n",
        "\n",
        "'Import to_categorical from the keras utils package to one hot encode the labels'\n",
        "from keras.utils import to_categorical"
      ],
      "metadata": {
        "id": "1wjJt8tZWevp"
      },
      "execution_count": 5,
      "outputs": []
    },
    {
      "cell_type": "code",
      "source": [
        "#Data Augmentation Function: Let's define an instance of the ImageDataGenerator class and set the parameters.We have to instantiate for the Train,Validation and Test datasets\n",
        "train_generator = ImageDataGenerator(\n",
        "    rotation_range=15,\n",
        "    zoom_range=0.1,\n",
        "    horizontal_flip=True)\n",
        "\n",
        "val_generator = ImageDataGenerator(\n",
        "    rotation_range=15,\n",
        "    zoom_range=0.1,\n",
        "    horizontal_flip=True)\n",
        "\n",
        "test_generator = ImageDataGenerator()"
      ],
      "metadata": {
        "id": "wtCjcf7xWhkJ"
      },
      "execution_count": 6,
      "outputs": []
    },
    {
      "cell_type": "code",
      "source": [
        "src_path_train = \"/content/content/Linnaeus_Esrgan/train\"\n",
        "src_path_val = \"/content/content/Linnaeus_Esrgan/val\"\n",
        "src_path_test = \"/content/content/Linnaeus_Esrgan/test\""
      ],
      "metadata": {
        "id": "sze8suGaWlRN"
      },
      "execution_count": 7,
      "outputs": []
    },
    {
      "cell_type": "code",
      "source": [
        "def remove(path):\n",
        "    \"\"\" param <path> could either be relative or absolute. \"\"\"\n",
        "    if os.path.isfile(path) or os.path.islink(path):\n",
        "        os.remove(path)  # remove the file\n",
        "    elif os.path.isdir(path):\n",
        "        shutil.rmtree(path)  # remove dir and all contains\n",
        "    else:\n",
        "        raise ValueError(\"file {} is not a file or dir.\".format(path))"
      ],
      "metadata": {
        "id": "Jv-CeKfzA4aN"
      },
      "execution_count": 10,
      "outputs": []
    },
    {
      "cell_type": "code",
      "source": [
        "remove(\"/content/content/Linnaeus_Esrgan/train/.ipynb_checkpoints\")"
      ],
      "metadata": {
        "id": "0_UgN_rTBKgu"
      },
      "execution_count": 11,
      "outputs": []
    },
    {
      "cell_type": "code",
      "source": [
        "#Fit the augmentation method to the data\n",
        "train_generatorr = train_generator.flow_from_directory(src_path_train,\n",
        "                            \n",
        "                                                    class_mode='categorical',\n",
        "                                                    batch_size=32,\n",
        "                                                    color_mode=\"rgb\",\n",
        "                                                    target_size=(128,128),\n",
        "                                                    shuffle=False,\n",
        "                                                    seed=42)\n",
        "\n",
        "validation_generator = train_generator.flow_from_directory(src_path_val,\n",
        "                                                        target_size=(128,128),\n",
        "                                                        batch_size=32,\n",
        "                                                        color_mode=\"rgb\",\n",
        "                                                        class_mode='categorical',\n",
        "                                                        shuffle=False,\n",
        "                                                        seed=42)\n",
        "test_generatorr = test_generator.flow_from_directory(\n",
        "    src_path_test,\n",
        "    target_size=(128,128),\n",
        "    color_mode=\"rgb\",\n",
        "    batch_size=1,\n",
        "    class_mode=\"categorical\",\n",
        "    shuffle=False,\n",
        "    seed=42\n",
        ")"
      ],
      "metadata": {
        "colab": {
          "base_uri": "https://localhost:8080/"
        },
        "id": "L7V2GB2zWwtM",
        "outputId": "d449ba5c-c643-4162-9a5a-2cf86ca479d0"
      },
      "execution_count": 12,
      "outputs": [
        {
          "output_type": "stream",
          "name": "stdout",
          "text": [
            "Found 4800 images belonging to 5 classes.\n",
            "Found 1200 images belonging to 5 classes.\n",
            "Found 2000 images belonging to 5 classes.\n"
          ]
        }
      ]
    },
    {
      "cell_type": "code",
      "source": [
        "lrr= ReduceLROnPlateau(verbose = 1,\n",
        "                       monitor='val_loss', #Metric to be measured\n",
        "                       factor=.1, #Factor by which learning rate will be reduced\n",
        "                       patience=4,  #No. of epochs after which if there is no improvement in the val_acc, the learning rate is reduced\n",
        "                       min_lr=1e-7,\n",
        "                       min_delta = 0.001) #The minimum learning rate "
      ],
      "metadata": {
        "id": "fjRlCYn7W6OY"
      },
      "execution_count": 13,
      "outputs": []
    },
    {
      "cell_type": "code",
      "source": [
        "base_model_2 = ResNet50(include_top=False,weights='imagenet',input_shape=(128,128,3),classes=5)"
      ],
      "metadata": {
        "id": "uK1WIdR3epq0"
      },
      "execution_count": 29,
      "outputs": []
    },
    {
      "cell_type": "code",
      "source": [
        "#Since we have already defined Resnet50 as base_model_2, let us build the sequential model.\n",
        "\n",
        "import tensorflow as tf\n",
        "rn=tf.keras.initializers.RandomNormal(mean=0.0, stddev=0.05,seed=42)\n",
        "\n",
        "model_2=Sequential()\n",
        "#Add the Dense layers along with activation and batch normalization\n",
        "model_2.add(base_model_2)\n",
        "model_2.add(Flatten())\n",
        "\n",
        "\n",
        "#Add the Dense layers along with activation and batch normalization\n",
        "model_2.add(Dense(32,activation=('relu'),kernel_initializer=rn))\n",
        "model_2.add(Dropout(.2, seed = 42))\n",
        "model_2.add(Dense(5,activation=('softmax'),kernel_initializer=rn)) #This is the classification layer"
      ],
      "metadata": {
        "id": "wmWjBX2uerJE"
      },
      "execution_count": 30,
      "outputs": []
    },
    {
      "cell_type": "code",
      "source": [
        "model_2.layers[0].trainable = False"
      ],
      "metadata": {
        "id": "YtiLVsu3etaL"
      },
      "execution_count": 31,
      "outputs": []
    },
    {
      "cell_type": "code",
      "source": [
        "model_2.summary()"
      ],
      "metadata": {
        "colab": {
          "base_uri": "https://localhost:8080/"
        },
        "id": "cJdLoIhrevBG",
        "outputId": "7784772a-e536-40fc-cb6b-0c89cf23ddbb"
      },
      "execution_count": 32,
      "outputs": [
        {
          "output_type": "stream",
          "name": "stdout",
          "text": [
            "Model: \"sequential_2\"\n",
            "_________________________________________________________________\n",
            " Layer (type)                Output Shape              Param #   \n",
            "=================================================================\n",
            " resnet50 (Functional)       (None, 4, 4, 2048)        23587712  \n",
            "                                                                 \n",
            " flatten_2 (Flatten)         (None, 32768)             0         \n",
            "                                                                 \n",
            " dense_4 (Dense)             (None, 32)                1048608   \n",
            "                                                                 \n",
            " dropout_2 (Dropout)         (None, 32)                0         \n",
            "                                                                 \n",
            " dense_5 (Dense)             (None, 5)                 165       \n",
            "                                                                 \n",
            "=================================================================\n",
            "Total params: 24,636,485\n",
            "Trainable params: 1,048,773\n",
            "Non-trainable params: 23,587,712\n",
            "_________________________________________________________________\n"
          ]
        }
      ]
    },
    {
      "cell_type": "code",
      "source": [
        "learn_rate=.0001\n",
        "\n",
        "sgd=SGD(lr=learn_rate,momentum=.9,nesterov=False)\n",
        "adam=Adam(learning_rate=learn_rate, beta_1=0.9, beta_2=0.999, epsilon=None, decay=0.0, amsgrad=False)"
      ],
      "metadata": {
        "id": "AQ3IPIlXewaN"
      },
      "execution_count": 33,
      "outputs": []
    },
    {
      "cell_type": "code",
      "source": [
        "model_2.compile(optimizer=adam,loss='categorical_crossentropy',metrics=['accuracy'])"
      ],
      "metadata": {
        "id": "Vy5aoWumezlv"
      },
      "execution_count": 34,
      "outputs": []
    },
    {
      "cell_type": "code",
      "source": [
        "hist = model_2.fit_generator(train_generatorr,\n",
        "                      epochs=50,\n",
        "                     steps_per_epoch = train_generatorr.samples // 32,\n",
        "                      validation_data = validation_generator,\n",
        "                      validation_steps = validation_generator.samples // 32,\n",
        "                      callbacks=[lrr],\n",
        "                      verbose=1)\n"
      ],
      "metadata": {
        "colab": {
          "base_uri": "https://localhost:8080/"
        },
        "id": "AU0tXFZ_e2UE",
        "outputId": "d44f6ce9-b1d2-4278-a785-1de46eb14755"
      },
      "execution_count": 35,
      "outputs": [
        {
          "output_type": "stream",
          "name": "stderr",
          "text": [
            "<ipython-input-35-a6b9dfdb4867>:1: UserWarning: `Model.fit_generator` is deprecated and will be removed in a future version. Please use `Model.fit`, which supports generators.\n",
            "  hist = model_2.fit_generator(train_generatorr,\n"
          ]
        },
        {
          "output_type": "stream",
          "name": "stdout",
          "text": [
            "Epoch 1/50\n",
            "150/150 [==============================] - 80s 243ms/step - loss: 1.9699 - accuracy: 0.4350 - val_loss: 0.9561 - val_accuracy: 0.6410 - lr: 1.0000e-04\n",
            "Epoch 2/50\n",
            "150/150 [==============================] - 30s 203ms/step - loss: 0.9447 - accuracy: 0.6446 - val_loss: 0.7024 - val_accuracy: 0.7517 - lr: 1.0000e-04\n",
            "Epoch 3/50\n",
            "150/150 [==============================] - 31s 209ms/step - loss: 0.7065 - accuracy: 0.7354 - val_loss: 0.6093 - val_accuracy: 0.7728 - lr: 1.0000e-04\n",
            "Epoch 4/50\n",
            "150/150 [==============================] - 34s 224ms/step - loss: 0.6184 - accuracy: 0.7708 - val_loss: 0.5386 - val_accuracy: 0.8083 - lr: 1.0000e-04\n",
            "Epoch 5/50\n",
            "150/150 [==============================] - 35s 235ms/step - loss: 0.5458 - accuracy: 0.8046 - val_loss: 0.4790 - val_accuracy: 0.8378 - lr: 1.0000e-04\n",
            "Epoch 6/50\n",
            "150/150 [==============================] - 34s 228ms/step - loss: 0.4796 - accuracy: 0.8290 - val_loss: 0.4826 - val_accuracy: 0.8412 - lr: 1.0000e-04\n",
            "Epoch 7/50\n",
            "150/150 [==============================] - 30s 202ms/step - loss: 0.4257 - accuracy: 0.8481 - val_loss: 0.4925 - val_accuracy: 0.8395 - lr: 1.0000e-04\n",
            "Epoch 8/50\n",
            "150/150 [==============================] - 31s 206ms/step - loss: 0.4114 - accuracy: 0.8523 - val_loss: 0.4356 - val_accuracy: 0.8395 - lr: 1.0000e-04\n",
            "Epoch 9/50\n",
            "150/150 [==============================] - 34s 228ms/step - loss: 0.3708 - accuracy: 0.8708 - val_loss: 0.4081 - val_accuracy: 0.8657 - lr: 1.0000e-04\n",
            "Epoch 10/50\n",
            "150/150 [==============================] - 30s 201ms/step - loss: 0.3448 - accuracy: 0.8700 - val_loss: 0.4456 - val_accuracy: 0.8556 - lr: 1.0000e-04\n",
            "Epoch 11/50\n",
            "150/150 [==============================] - 31s 209ms/step - loss: 0.3216 - accuracy: 0.8856 - val_loss: 0.3882 - val_accuracy: 0.8691 - lr: 1.0000e-04\n",
            "Epoch 12/50\n",
            "150/150 [==============================] - 31s 205ms/step - loss: 0.3059 - accuracy: 0.8860 - val_loss: 0.4184 - val_accuracy: 0.8725 - lr: 1.0000e-04\n",
            "Epoch 13/50\n",
            "150/150 [==============================] - 34s 229ms/step - loss: 0.2985 - accuracy: 0.8931 - val_loss: 0.4367 - val_accuracy: 0.8640 - lr: 1.0000e-04\n",
            "Epoch 14/50\n",
            "150/150 [==============================] - 35s 236ms/step - loss: 0.2813 - accuracy: 0.8983 - val_loss: 0.4208 - val_accuracy: 0.8649 - lr: 1.0000e-04\n",
            "Epoch 15/50\n",
            "150/150 [==============================] - 34s 228ms/step - loss: 0.2586 - accuracy: 0.9035 - val_loss: 0.3639 - val_accuracy: 0.8860 - lr: 1.0000e-04\n",
            "Epoch 16/50\n",
            "150/150 [==============================] - 36s 238ms/step - loss: 0.2408 - accuracy: 0.9094 - val_loss: 0.3623 - val_accuracy: 0.8851 - lr: 1.0000e-04\n",
            "Epoch 17/50\n",
            "150/150 [==============================] - 35s 235ms/step - loss: 0.2333 - accuracy: 0.9152 - val_loss: 0.4211 - val_accuracy: 0.8725 - lr: 1.0000e-04\n",
            "Epoch 18/50\n",
            "150/150 [==============================] - 31s 208ms/step - loss: 0.2217 - accuracy: 0.9215 - val_loss: 0.3817 - val_accuracy: 0.8843 - lr: 1.0000e-04\n",
            "Epoch 19/50\n",
            "150/150 [==============================] - 34s 227ms/step - loss: 0.2029 - accuracy: 0.9250 - val_loss: 0.3705 - val_accuracy: 0.8910 - lr: 1.0000e-04\n",
            "Epoch 20/50\n",
            "150/150 [==============================] - ETA: 0s - loss: 0.2054 - accuracy: 0.9256\n",
            "Epoch 20: ReduceLROnPlateau reducing learning rate to 9.999999747378752e-06.\n",
            "150/150 [==============================] - 35s 233ms/step - loss: 0.2054 - accuracy: 0.9256 - val_loss: 0.3735 - val_accuracy: 0.8868 - lr: 1.0000e-04\n",
            "Epoch 21/50\n",
            "150/150 [==============================] - 35s 232ms/step - loss: 0.1853 - accuracy: 0.9290 - val_loss: 0.3613 - val_accuracy: 0.8834 - lr: 1.0000e-05\n",
            "Epoch 22/50\n",
            "150/150 [==============================] - 35s 233ms/step - loss: 0.1664 - accuracy: 0.9400 - val_loss: 0.3819 - val_accuracy: 0.8851 - lr: 1.0000e-05\n",
            "Epoch 23/50\n",
            "150/150 [==============================] - 35s 234ms/step - loss: 0.1786 - accuracy: 0.9340 - val_loss: 0.3812 - val_accuracy: 0.8936 - lr: 1.0000e-05\n",
            "Epoch 24/50\n",
            "150/150 [==============================] - 30s 202ms/step - loss: 0.1664 - accuracy: 0.9394 - val_loss: 0.3534 - val_accuracy: 0.8927 - lr: 1.0000e-05\n",
            "Epoch 25/50\n",
            "150/150 [==============================] - 35s 235ms/step - loss: 0.1733 - accuracy: 0.9369 - val_loss: 0.3681 - val_accuracy: 0.8894 - lr: 1.0000e-05\n",
            "Epoch 26/50\n",
            "150/150 [==============================] - 37s 247ms/step - loss: 0.1691 - accuracy: 0.9400 - val_loss: 0.3814 - val_accuracy: 0.8910 - lr: 1.0000e-05\n",
            "Epoch 27/50\n",
            "150/150 [==============================] - 34s 226ms/step - loss: 0.1750 - accuracy: 0.9344 - val_loss: 0.3585 - val_accuracy: 0.8936 - lr: 1.0000e-05\n",
            "Epoch 28/50\n",
            "150/150 [==============================] - 35s 236ms/step - loss: 0.1729 - accuracy: 0.9333 - val_loss: 0.3480 - val_accuracy: 0.9020 - lr: 1.0000e-05\n",
            "Epoch 29/50\n",
            "150/150 [==============================] - 36s 237ms/step - loss: 0.1645 - accuracy: 0.9421 - val_loss: 0.3559 - val_accuracy: 0.8944 - lr: 1.0000e-05\n",
            "Epoch 30/50\n",
            "150/150 [==============================] - 30s 203ms/step - loss: 0.1743 - accuracy: 0.9365 - val_loss: 0.3732 - val_accuracy: 0.8894 - lr: 1.0000e-05\n",
            "Epoch 31/50\n",
            "150/150 [==============================] - 35s 235ms/step - loss: 0.1722 - accuracy: 0.9358 - val_loss: 0.3551 - val_accuracy: 0.8834 - lr: 1.0000e-05\n",
            "Epoch 32/50\n",
            "150/150 [==============================] - ETA: 0s - loss: 0.1687 - accuracy: 0.9356\n",
            "Epoch 32: ReduceLROnPlateau reducing learning rate to 9.999999747378752e-07.\n",
            "150/150 [==============================] - 30s 203ms/step - loss: 0.1687 - accuracy: 0.9356 - val_loss: 0.3749 - val_accuracy: 0.8784 - lr: 1.0000e-05\n",
            "Epoch 33/50\n",
            "150/150 [==============================] - 35s 235ms/step - loss: 0.1649 - accuracy: 0.9365 - val_loss: 0.3366 - val_accuracy: 0.8944 - lr: 1.0000e-06\n",
            "Epoch 34/50\n",
            "150/150 [==============================] - 35s 230ms/step - loss: 0.1526 - accuracy: 0.9438 - val_loss: 0.3792 - val_accuracy: 0.8826 - lr: 1.0000e-06\n",
            "Epoch 35/50\n",
            "150/150 [==============================] - 31s 206ms/step - loss: 0.1671 - accuracy: 0.9377 - val_loss: 0.3544 - val_accuracy: 0.8978 - lr: 1.0000e-06\n",
            "Epoch 36/50\n",
            "150/150 [==============================] - 36s 239ms/step - loss: 0.1769 - accuracy: 0.9327 - val_loss: 0.3706 - val_accuracy: 0.8868 - lr: 1.0000e-06\n",
            "Epoch 37/50\n",
            "150/150 [==============================] - ETA: 0s - loss: 0.1634 - accuracy: 0.9421\n",
            "Epoch 37: ReduceLROnPlateau reducing learning rate to 1e-07.\n",
            "150/150 [==============================] - 35s 237ms/step - loss: 0.1634 - accuracy: 0.9421 - val_loss: 0.3928 - val_accuracy: 0.8860 - lr: 1.0000e-06\n",
            "Epoch 38/50\n",
            "150/150 [==============================] - 36s 237ms/step - loss: 0.1642 - accuracy: 0.9421 - val_loss: 0.3751 - val_accuracy: 0.8801 - lr: 1.0000e-07\n",
            "Epoch 39/50\n",
            "150/150 [==============================] - 31s 204ms/step - loss: 0.1667 - accuracy: 0.9375 - val_loss: 0.3790 - val_accuracy: 0.8944 - lr: 1.0000e-07\n",
            "Epoch 40/50\n",
            "150/150 [==============================] - 32s 211ms/step - loss: 0.1640 - accuracy: 0.9423 - val_loss: 0.3543 - val_accuracy: 0.9029 - lr: 1.0000e-07\n",
            "Epoch 41/50\n",
            "150/150 [==============================] - 36s 239ms/step - loss: 0.1650 - accuracy: 0.9415 - val_loss: 0.3430 - val_accuracy: 0.9029 - lr: 1.0000e-07\n",
            "Epoch 42/50\n",
            "150/150 [==============================] - 35s 236ms/step - loss: 0.1691 - accuracy: 0.9371 - val_loss: 0.3775 - val_accuracy: 0.8843 - lr: 1.0000e-07\n",
            "Epoch 43/50\n",
            "150/150 [==============================] - 31s 204ms/step - loss: 0.1633 - accuracy: 0.9425 - val_loss: 0.3983 - val_accuracy: 0.8910 - lr: 1.0000e-07\n",
            "Epoch 44/50\n",
            "150/150 [==============================] - 36s 238ms/step - loss: 0.1630 - accuracy: 0.9404 - val_loss: 0.3989 - val_accuracy: 0.8902 - lr: 1.0000e-07\n",
            "Epoch 45/50\n",
            "150/150 [==============================] - 31s 204ms/step - loss: 0.1570 - accuracy: 0.9415 - val_loss: 0.4048 - val_accuracy: 0.8877 - lr: 1.0000e-07\n",
            "Epoch 46/50\n",
            "150/150 [==============================] - 31s 204ms/step - loss: 0.1593 - accuracy: 0.9419 - val_loss: 0.3641 - val_accuracy: 0.8986 - lr: 1.0000e-07\n",
            "Epoch 47/50\n",
            "150/150 [==============================] - 35s 237ms/step - loss: 0.1578 - accuracy: 0.9448 - val_loss: 0.3753 - val_accuracy: 0.8919 - lr: 1.0000e-07\n",
            "Epoch 48/50\n",
            "150/150 [==============================] - 31s 206ms/step - loss: 0.1741 - accuracy: 0.9340 - val_loss: 0.4051 - val_accuracy: 0.8919 - lr: 1.0000e-07\n",
            "Epoch 49/50\n",
            "150/150 [==============================] - 35s 236ms/step - loss: 0.1584 - accuracy: 0.9440 - val_loss: 0.3964 - val_accuracy: 0.8978 - lr: 1.0000e-07\n",
            "Epoch 50/50\n",
            "150/150 [==============================] - 35s 236ms/step - loss: 0.1588 - accuracy: 0.9421 - val_loss: 0.3943 - val_accuracy: 0.8801 - lr: 1.0000e-07\n"
          ]
        }
      ]
    },
    {
      "cell_type": "code",
      "source": [
        "plt.plot(hist.history['accuracy'])\n",
        "plt.plot(hist.history['val_accuracy'])\n",
        "plt.title('model accuracy')\n",
        "plt.ylabel('accuracy')\n",
        "plt.xlabel('epoch')\n",
        "plt.legend(['train', 'validation'], loc='upper left')\n",
        "plt.show()"
      ],
      "metadata": {
        "colab": {
          "base_uri": "https://localhost:8080/",
          "height": 295
        },
        "id": "1jGwE6difDeR",
        "outputId": "52943471-4b5b-46fc-c947-087cff9e674c"
      },
      "execution_count": 36,
      "outputs": [
        {
          "output_type": "display_data",
          "data": {
            "text/plain": [
              "<Figure size 432x288 with 1 Axes>"
            ],
            "image/png": "[encoded data removed]"
          },
          "metadata": {
            "needs_background": "light"
          }
        }
      ]
    },
    {
      "cell_type": "code",
      "source": [
        "# summarize history for loss\n",
        "plt.plot(hist.history['loss'])\n",
        "plt.plot(hist.history['val_loss'])\n",
        "plt.title('model loss')\n",
        "plt.ylabel('loss')\n",
        "plt.xlabel('epoch')\n",
        "plt.legend(['train', 'validation'], loc='upper right')\n",
        "plt.show()"
      ],
      "metadata": {
        "colab": {
          "base_uri": "https://localhost:8080/",
          "height": 295
        },
        "id": "h9Z2qjjCnJLA",
        "outputId": "fca1aaa6-d767-403e-b635-9fbec5fd669d"
      },
      "execution_count": 37,
      "outputs": [
        {
          "output_type": "display_data",
          "data": {
            "text/plain": [
              "<Figure size 432x288 with 1 Axes>"
            ],
            "image/png": "[encoded data removed]"
          },
          "metadata": {
            "needs_background": "light"
          }
        }
      ]
    },
    {
      "cell_type": "code",
      "source": [
        "predict = model_2.evaluate(test_generatorr)\n",
        "# predict the class label\n",
        "print(predict)"
      ],
      "metadata": {
        "colab": {
          "base_uri": "https://localhost:8080/"
        },
        "id": "-BrXmlS5nNYI",
        "outputId": "c8262154-3c84-4d0f-8380-9a9ece85a0e7"
      },
      "execution_count": 38,
      "outputs": [
        {
          "output_type": "stream",
          "name": "stdout",
          "text": [
            "2000/2000 [==============================] - 31s 15ms/step - loss: 0.3142 - accuracy: 0.9050\n",
            "[0.31415364146232605, 0.9049999713897705]\n"
          ]
        }
      ]
    },
    {
      "cell_type": "code",
      "source": [
        "model_2.save(\"model_ESRGAN_Linnaeus_ResNet50_.905.h5\")"
      ],
      "metadata": {
        "id": "zycaFIFQpzPy"
      },
      "execution_count": 39,
      "outputs": []
    },
    {
      "cell_type": "code",
      "source": [],
      "metadata": {
        "id": "XFmT3LNNSE-x"
      },
      "execution_count": null,
      "outputs": []
    }
  ]
}