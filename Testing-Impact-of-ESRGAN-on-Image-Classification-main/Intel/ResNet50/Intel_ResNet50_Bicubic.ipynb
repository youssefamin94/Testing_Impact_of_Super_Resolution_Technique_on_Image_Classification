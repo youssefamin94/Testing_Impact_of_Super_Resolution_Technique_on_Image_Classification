{
  "cells": [
    {
      "cell_type": "code",
      "source": [
        "from google.colab import drive\n",
        "drive.mount('/content/drive')"
      ],
      "metadata": {
        "colab": {
          "base_uri": "https://localhost:8080/"
        },
        "id": "D3Ia0U52FiwQ",
        "outputId": "a367375e-0a70-4e2d-d839-e576815908c9"
      },
      "id": "D3Ia0U52FiwQ",
      "execution_count": 1,
      "outputs": [
        {
          "output_type": "stream",
          "name": "stdout",
          "text": [
            "Mounted at /content/drive\n"
          ]
        }
      ]
    },
    {
      "cell_type": "code",
      "source": [
        "!unzip /content/drive/MyDrive/Intel_Images_Bicubic.zip"
      ],
      "metadata": {
        "id": "t59C9xfLFili"
      },
      "id": "t59C9xfLFili",
      "execution_count": null,
      "outputs": []
    },
    {
      "cell_type": "code",
      "execution_count": 3,
      "id": "331622b1",
      "metadata": {
        "id": "331622b1"
      },
      "outputs": [],
      "source": [
        "import numpy as np # linear algebra\n",
        "import pandas as pd # data processing, CSV file I/O (e.g. pd.read_csv)\n",
        "from sklearn.utils.multiclass import unique_labels\n",
        "\n",
        "# Input data files are available in the \"../input/\" directory.\n",
        "# For example, running this (by clicking run or pressing Shift+Enter) will list the files in the input directory\n",
        "\n",
        "import os"
      ]
    },
    {
      "cell_type": "code",
      "execution_count": 4,
      "id": "0636c791",
      "metadata": {
        "id": "0636c791"
      },
      "outputs": [],
      "source": [
        "import matplotlib.pyplot as plt\n",
        "import matplotlib.image as mpimg\n",
        "import seaborn as sns\n",
        "%matplotlib inline\n",
        "''' to learn more about itertools visit\n",
        "    https://medium.com/@jasonrigden/a-guide-to-python-itertools-82e5a306cdf8'''\n",
        "import itertools\n",
        "from sklearn.model_selection import train_test_split\n",
        "from sklearn.metrics import confusion_matrix"
      ]
    },
    {
      "cell_type": "code",
      "execution_count": 5,
      "id": "3bc165d1",
      "metadata": {
        "id": "3bc165d1"
      },
      "outputs": [],
      "source": [
        "#Import keras functions\n",
        "\n",
        "from keras import Sequential\n",
        "\n",
        "'''Since we are using transfer learning let's import the model that we want to implement.Let's use VGG 19(19 layers) and Resnet-50 (50 layers of residual units). \n",
        "Residual units allow us to add more layers onto the model without a degradation in accuracy.\n",
        "Let's try and compare the accuracy of the 2 models and see if the addtional layers do make a significant difference. '''\n",
        "\n",
        "from keras.applications import VGG19,ResNet50\n",
        "\n",
        "'Import the datagenerator to augment images'\n",
        "from keras.preprocessing.image import ImageDataGenerator\n",
        "\n",
        "'''Import the optimizers and leanring rate annealer (which will reduce the learning rate once a particular metric we choose(in this case validation error) \n",
        "does not reduce after a user defined number of epochs)'''\n",
        "from keras.optimizers import SGD,Adam\n",
        "from keras.callbacks import ReduceLROnPlateau\n",
        "\n",
        "'Lastly import the final layers that will be added on top of the base model'\n",
        "from keras.layers import Flatten,Dense,BatchNormalization,Activation,Dropout\n",
        "\n",
        "'Import to_categorical from the keras utils package to one hot encode the labels'\n",
        "from keras.utils import to_categorical"
      ]
    },
    {
      "cell_type": "code",
      "execution_count": 6,
      "id": "61c92605",
      "metadata": {
        "id": "61c92605"
      },
      "outputs": [],
      "source": [
        "#Data Augmentation Function: Let's define an instance of the ImageDataGenerator class and set the parameters.We have to instantiate for the Train,Validation and Test datasets\n",
        "train_generator = ImageDataGenerator()\n",
        "\n",
        "val_generator = ImageDataGenerator()\n",
        "\n",
        "test_generator = ImageDataGenerator() "
      ]
    },
    {
      "cell_type": "code",
      "execution_count": 8,
      "id": "790a26b5",
      "metadata": {
        "id": "790a26b5"
      },
      "outputs": [],
      "source": [
        "src_path_train = \"/content/Intel Images Bicubic/train\"\n",
        "src_path_val = \"/content/Intel Images Bicubic/val\"\n",
        "src_path_test = \"/content/Intel Images Bicubic/test\""
      ]
    },
    {
      "cell_type": "code",
      "execution_count": 9,
      "id": "e0f33a4e",
      "metadata": {
        "colab": {
          "base_uri": "https://localhost:8080/"
        },
        "id": "e0f33a4e",
        "outputId": "147c44a6-bd8f-4559-87a2-993fb1ae3458"
      },
      "outputs": [
        {
          "output_type": "stream",
          "name": "stdout",
          "text": [
            "Found 11224 images belonging to 6 classes.\n",
            "Found 2810 images belonging to 6 classes.\n",
            "Found 3000 images belonging to 6 classes.\n"
          ]
        }
      ],
      "source": [
        "#Fit the augmentation method to the data\n",
        "train_generatorr = train_generator.flow_from_directory(src_path_train,\n",
        "                                                    class_mode='categorical',\n",
        "                                                    batch_size=64,\n",
        "                                                    color_mode=\"rgb\",\n",
        "                                                    target_size=(38,38),\n",
        "                                                    shuffle=False,\n",
        "                                                    seed=42)\n",
        "\n",
        "validation_generator = train_generator.flow_from_directory(src_path_val,\n",
        "                                                        target_size=(38,38),\n",
        "                                                        batch_size=64,\n",
        "                                                        color_mode=\"rgb\",\n",
        "                                                        class_mode='categorical',\n",
        "                                                        shuffle=False,\n",
        "                                                        seed=42)\n",
        "test_generatorr = test_generator.flow_from_directory(\n",
        "    src_path_test,\n",
        "    target_size=(38,38),\n",
        "    color_mode=\"rgb\",\n",
        "    batch_size=1,\n",
        "    class_mode=\"categorical\",\n",
        "    shuffle=False,\n",
        "    seed=42\n",
        ")"
      ]
    },
    {
      "cell_type": "code",
      "execution_count": 94,
      "id": "a8fa2c81",
      "metadata": {
        "id": "a8fa2c81"
      },
      "outputs": [],
      "source": [
        "lrr= ReduceLROnPlateau(verbose = 1,\n",
        "                       monitor='val_loss', #Metric to be measured\n",
        "                       factor=.1, #Factor by which learning rate will be reduced\n",
        "                       patience=5,  #No. of epochs after which if there is no improvement in the val_acc, the learning rate is reduced\n",
        "                       min_lr=1e-7) #The minimum learning rate "
      ]
    },
    {
      "cell_type": "code",
      "execution_count": 95,
      "id": "48ae1e2f",
      "metadata": {
        "id": "48ae1e2f"
      },
      "outputs": [],
      "source": [
        "base_model_2 = ResNet50(include_top=False,weights='imagenet',input_shape=(38,38,3),classes=6)"
      ]
    },
    {
      "cell_type": "code",
      "execution_count": 96,
      "id": "991b8ea3",
      "metadata": {
        "id": "991b8ea3"
      },
      "outputs": [],
      "source": [
        "#Since we have already defined Resnet50 as base_model_2, let us build the sequential model.\n",
        "\n",
        "model_2=Sequential()\n",
        "#Add the Dense layers along with activation and batch normalization\n",
        "model_2.add(base_model_2)\n",
        "model_2.add(Flatten())\n",
        "\n",
        "\n",
        "#Add the Dense layers along with activation and batch normalization\n",
        "model_2.add(Dense(128,activation=('relu')))\n",
        "model_2.add(Dropout(.5, seed = 42))\n",
        "model_2.add(Dense(64,activation=('relu')))\n",
        "model_2.add(Dense(6,activation=('softmax'))) #This is the classification layer"
      ]
    },
    {
      "cell_type": "code",
      "source": [
        "model_2.layers[0].trainable = False"
      ],
      "metadata": {
        "id": "p6-AShQzJ6YI"
      },
      "id": "p6-AShQzJ6YI",
      "execution_count": 97,
      "outputs": []
    },
    {
      "cell_type": "code",
      "execution_count": 98,
      "id": "e2e49c94",
      "metadata": {
        "colab": {
          "base_uri": "https://localhost:8080/"
        },
        "id": "e2e49c94",
        "outputId": "0aad1eb9-0ab4-4b50-f320-d5f5447d25e8"
      },
      "outputs": [
        {
          "output_type": "stream",
          "name": "stdout",
          "text": [
            "Model: \"sequential_10\"\n",
            "_________________________________________________________________\n",
            " Layer (type)                Output Shape              Param #   \n",
            "=================================================================\n",
            " resnet50 (Functional)       (None, 2, 2, 2048)        23587712  \n",
            "                                                                 \n",
            " flatten_10 (Flatten)        (None, 8192)              0         \n",
            "                                                                 \n",
            " dense_21 (Dense)            (None, 128)               1048704   \n",
            "                                                                 \n",
            " dropout_3 (Dropout)         (None, 128)               0         \n",
            "                                                                 \n",
            " dense_22 (Dense)            (None, 64)                8256      \n",
            "                                                                 \n",
            " dense_23 (Dense)            (None, 6)                 390       \n",
            "                                                                 \n",
            "=================================================================\n",
            "Total params: 24,645,062\n",
            "Trainable params: 1,057,350\n",
            "Non-trainable params: 23,587,712\n",
            "_________________________________________________________________\n"
          ]
        }
      ],
      "source": [
        "model_2.summary()"
      ]
    },
    {
      "cell_type": "code",
      "execution_count": 99,
      "id": "9a263abd",
      "metadata": {
        "colab": {
          "base_uri": "https://localhost:8080/"
        },
        "id": "9a263abd",
        "outputId": "5f8c7af1-bafc-4d2e-e70e-b3d4a87095cf"
      },
      "outputs": [
        {
          "output_type": "stream",
          "name": "stderr",
          "text": [
            "/usr/local/lib/python3.9/dist-packages/keras/optimizers/optimizer_v2/gradient_descent.py:114: UserWarning: The `lr` argument is deprecated, use `learning_rate` instead.\n",
            "  super().__init__(name, **kwargs)\n",
            "/usr/local/lib/python3.9/dist-packages/keras/optimizers/optimizer_v2/adam.py:117: UserWarning: The `lr` argument is deprecated, use `learning_rate` instead.\n",
            "  super().__init__(name, **kwargs)\n"
          ]
        }
      ],
      "source": [
        "learn_rate=.001\n",
        "\n",
        "sgd=SGD(lr=learn_rate,momentum=.9,nesterov=False)\n",
        "adam=Adam(lr=learn_rate, beta_1=0.9, beta_2=0.999, epsilon=None, decay=0.0, amsgrad=False)"
      ]
    },
    {
      "cell_type": "code",
      "execution_count": 100,
      "id": "ae54c544",
      "metadata": {
        "id": "ae54c544"
      },
      "outputs": [],
      "source": [
        "model_2.compile(optimizer=sgd,loss='categorical_crossentropy',metrics=['accuracy'])"
      ]
    },
    {
      "cell_type": "code",
      "execution_count": 101,
      "id": "fc23e1e9",
      "metadata": {
        "colab": {
          "base_uri": "https://localhost:8080/"
        },
        "id": "fc23e1e9",
        "outputId": "06cb0304-a056-4ec6-8d69-3f3578f5f560"
      },
      "outputs": [
        {
          "output_type": "stream",
          "name": "stdout",
          "text": [
            "Epoch 1/60\n"
          ]
        },
        {
          "output_type": "stream",
          "name": "stderr",
          "text": [
            "<ipython-input-101-bc728557f741>:1: UserWarning: `Model.fit_generator` is deprecated and will be removed in a future version. Please use `Model.fit`, which supports generators.\n",
            "  hist = model_2.fit_generator(train_generatorr,\n"
          ]
        },
        {
          "output_type": "stream",
          "name": "stdout",
          "text": [
            "175/175 [==============================] - 11s 48ms/step - loss: 1.5978 - accuracy: 0.3737 - val_loss: 1.0723 - val_accuracy: 0.5523 - lr: 0.0010\n",
            "Epoch 2/60\n",
            "175/175 [==============================] - 6s 35ms/step - loss: 1.1521 - accuracy: 0.5630 - val_loss: 0.8366 - val_accuracy: 0.7068 - lr: 0.0010\n",
            "Epoch 3/60\n",
            "175/175 [==============================] - 6s 35ms/step - loss: 0.9939 - accuracy: 0.6234 - val_loss: 0.8594 - val_accuracy: 0.6741 - lr: 0.0010\n",
            "Epoch 4/60\n",
            "175/175 [==============================] - 7s 41ms/step - loss: 0.9051 - accuracy: 0.6565 - val_loss: 0.8377 - val_accuracy: 0.6722 - lr: 0.0010\n",
            "Epoch 5/60\n",
            "175/175 [==============================] - 7s 38ms/step - loss: 0.8695 - accuracy: 0.6777 - val_loss: 0.7339 - val_accuracy: 0.7464 - lr: 0.0010\n",
            "Epoch 6/60\n",
            "175/175 [==============================] - 6s 35ms/step - loss: 0.7987 - accuracy: 0.7027 - val_loss: 0.8282 - val_accuracy: 0.6766 - lr: 0.0010\n",
            "Epoch 7/60\n",
            "175/175 [==============================] - 7s 41ms/step - loss: 0.7596 - accuracy: 0.7199 - val_loss: 0.8267 - val_accuracy: 0.6904 - lr: 0.0010\n",
            "Epoch 8/60\n",
            "175/175 [==============================] - 7s 39ms/step - loss: 0.7565 - accuracy: 0.7241 - val_loss: 0.6699 - val_accuracy: 0.7725 - lr: 0.0010\n",
            "Epoch 9/60\n",
            "175/175 [==============================] - 7s 37ms/step - loss: 0.6991 - accuracy: 0.7455 - val_loss: 0.6985 - val_accuracy: 0.7242 - lr: 0.0010\n",
            "Epoch 10/60\n",
            "175/175 [==============================] - 7s 38ms/step - loss: 0.6839 - accuracy: 0.7414 - val_loss: 0.6823 - val_accuracy: 0.7507 - lr: 0.0010\n",
            "Epoch 11/60\n",
            "175/175 [==============================] - 7s 37ms/step - loss: 0.6636 - accuracy: 0.7565 - val_loss: 0.6425 - val_accuracy: 0.7591 - lr: 0.0010\n",
            "Epoch 12/60\n",
            "175/175 [==============================] - 8s 43ms/step - loss: 0.6611 - accuracy: 0.7573 - val_loss: 0.7015 - val_accuracy: 0.7533 - lr: 0.0010\n",
            "Epoch 13/60\n",
            "175/175 [==============================] - 6s 35ms/step - loss: 0.6453 - accuracy: 0.7588 - val_loss: 0.6368 - val_accuracy: 0.7762 - lr: 0.0010\n",
            "Epoch 14/60\n",
            "175/175 [==============================] - 8s 46ms/step - loss: 0.6251 - accuracy: 0.7685 - val_loss: 0.6453 - val_accuracy: 0.7729 - lr: 0.0010\n",
            "Epoch 15/60\n",
            "175/175 [==============================] - 6s 34ms/step - loss: 0.6024 - accuracy: 0.7775 - val_loss: 0.6279 - val_accuracy: 0.7696 - lr: 0.0010\n",
            "Epoch 16/60\n",
            "175/175 [==============================] - 7s 42ms/step - loss: 0.5953 - accuracy: 0.7823 - val_loss: 0.6507 - val_accuracy: 0.7493 - lr: 0.0010\n",
            "Epoch 17/60\n",
            "175/175 [==============================] - 8s 45ms/step - loss: 0.5802 - accuracy: 0.7865 - val_loss: 0.6422 - val_accuracy: 0.7649 - lr: 0.0010\n",
            "Epoch 18/60\n",
            "175/175 [==============================] - 6s 35ms/step - loss: 0.5913 - accuracy: 0.7826 - val_loss: 0.6201 - val_accuracy: 0.7765 - lr: 0.0010\n",
            "Epoch 19/60\n",
            "175/175 [==============================] - 9s 52ms/step - loss: 0.5563 - accuracy: 0.7964 - val_loss: 0.7044 - val_accuracy: 0.7238 - lr: 0.0010\n",
            "Epoch 20/60\n",
            "175/175 [==============================] - 6s 34ms/step - loss: 0.5678 - accuracy: 0.7894 - val_loss: 0.6695 - val_accuracy: 0.7562 - lr: 0.0010\n",
            "Epoch 21/60\n",
            "175/175 [==============================] - 6s 35ms/step - loss: 0.5551 - accuracy: 0.7955 - val_loss: 0.6080 - val_accuracy: 0.7867 - lr: 0.0010\n",
            "Epoch 22/60\n",
            "175/175 [==============================] - 6s 35ms/step - loss: 0.5626 - accuracy: 0.7944 - val_loss: 0.5952 - val_accuracy: 0.7885 - lr: 0.0010\n",
            "Epoch 23/60\n",
            "175/175 [==============================] - 7s 41ms/step - loss: 0.5137 - accuracy: 0.8109 - val_loss: 0.6190 - val_accuracy: 0.7805 - lr: 0.0010\n",
            "Epoch 24/60\n",
            "175/175 [==============================] - 7s 41ms/step - loss: 0.5078 - accuracy: 0.8150 - val_loss: 0.6226 - val_accuracy: 0.7842 - lr: 0.0010\n",
            "Epoch 25/60\n",
            "175/175 [==============================] - 6s 35ms/step - loss: 0.4951 - accuracy: 0.8177 - val_loss: 0.6060 - val_accuracy: 0.7965 - lr: 0.0010\n",
            "Epoch 26/60\n",
            "175/175 [==============================] - 8s 47ms/step - loss: 0.4884 - accuracy: 0.8158 - val_loss: 0.5809 - val_accuracy: 0.8041 - lr: 0.0010\n",
            "Epoch 27/60\n",
            "175/175 [==============================] - 6s 36ms/step - loss: 0.4797 - accuracy: 0.8216 - val_loss: 0.5857 - val_accuracy: 0.7980 - lr: 0.0010\n",
            "Epoch 28/60\n",
            "175/175 [==============================] - 7s 42ms/step - loss: 0.4649 - accuracy: 0.8297 - val_loss: 0.6162 - val_accuracy: 0.7769 - lr: 0.0010\n",
            "Epoch 29/60\n",
            "175/175 [==============================] - 6s 35ms/step - loss: 0.4837 - accuracy: 0.8180 - val_loss: 0.5844 - val_accuracy: 0.7969 - lr: 0.0010\n",
            "Epoch 30/60\n",
            "175/175 [==============================] - 6s 36ms/step - loss: 0.4650 - accuracy: 0.8294 - val_loss: 0.6113 - val_accuracy: 0.7976 - lr: 0.0010\n",
            "Epoch 31/60\n",
            "174/175 [============================>.] - ETA: 0s - loss: 0.4441 - accuracy: 0.8367\n",
            "Epoch 31: ReduceLROnPlateau reducing learning rate to 0.00010000000474974513.\n",
            "175/175 [==============================] - 8s 44ms/step - loss: 0.4450 - accuracy: 0.8366 - val_loss: 0.6616 - val_accuracy: 0.7587 - lr: 0.0010\n",
            "Epoch 32/60\n",
            "175/175 [==============================] - 6s 34ms/step - loss: 0.4113 - accuracy: 0.8457 - val_loss: 0.5611 - val_accuracy: 0.8154 - lr: 1.0000e-04\n",
            "Epoch 33/60\n",
            "175/175 [==============================] - 7s 43ms/step - loss: 0.3791 - accuracy: 0.8618 - val_loss: 0.5658 - val_accuracy: 0.8121 - lr: 1.0000e-04\n",
            "Epoch 34/60\n",
            "175/175 [==============================] - 6s 36ms/step - loss: 0.3745 - accuracy: 0.8582 - val_loss: 0.5678 - val_accuracy: 0.8067 - lr: 1.0000e-04\n",
            "Epoch 35/60\n",
            "175/175 [==============================] - 6s 36ms/step - loss: 0.3791 - accuracy: 0.8562 - val_loss: 0.5599 - val_accuracy: 0.8132 - lr: 1.0000e-04\n",
            "Epoch 36/60\n",
            "175/175 [==============================] - 7s 41ms/step - loss: 0.3703 - accuracy: 0.8613 - val_loss: 0.5594 - val_accuracy: 0.8161 - lr: 1.0000e-04\n",
            "Epoch 37/60\n",
            "175/175 [==============================] - 8s 43ms/step - loss: 0.3676 - accuracy: 0.8639 - val_loss: 0.5636 - val_accuracy: 0.8114 - lr: 1.0000e-04\n",
            "Epoch 38/60\n",
            "175/175 [==============================] - 6s 37ms/step - loss: 0.3686 - accuracy: 0.8617 - val_loss: 0.5649 - val_accuracy: 0.8070 - lr: 1.0000e-04\n",
            "Epoch 39/60\n",
            "175/175 [==============================] - 7s 43ms/step - loss: 0.3634 - accuracy: 0.8648 - val_loss: 0.5608 - val_accuracy: 0.8118 - lr: 1.0000e-04\n",
            "Epoch 40/60\n",
            "175/175 [==============================] - 7s 43ms/step - loss: 0.3672 - accuracy: 0.8646 - val_loss: 0.5590 - val_accuracy: 0.8136 - lr: 1.0000e-04\n",
            "Epoch 41/60\n",
            "175/175 [==============================] - 6s 35ms/step - loss: 0.3621 - accuracy: 0.8659 - val_loss: 0.5594 - val_accuracy: 0.8110 - lr: 1.0000e-04\n",
            "Epoch 42/60\n",
            "175/175 [==============================] - 6s 35ms/step - loss: 0.3557 - accuracy: 0.8693 - val_loss: 0.5598 - val_accuracy: 0.8158 - lr: 1.0000e-04\n",
            "Epoch 43/60\n",
            "175/175 [==============================] - 7s 42ms/step - loss: 0.3545 - accuracy: 0.8680 - val_loss: 0.5655 - val_accuracy: 0.8103 - lr: 1.0000e-04\n",
            "Epoch 44/60\n",
            "175/175 [==============================] - 8s 43ms/step - loss: 0.3581 - accuracy: 0.8694 - val_loss: 0.5569 - val_accuracy: 0.8110 - lr: 1.0000e-04\n",
            "Epoch 45/60\n",
            "175/175 [==============================] - 6s 35ms/step - loss: 0.3505 - accuracy: 0.8678 - val_loss: 0.5629 - val_accuracy: 0.8067 - lr: 1.0000e-04\n",
            "Epoch 46/60\n",
            "175/175 [==============================] - 8s 43ms/step - loss: 0.3568 - accuracy: 0.8673 - val_loss: 0.5589 - val_accuracy: 0.8129 - lr: 1.0000e-04\n",
            "Epoch 47/60\n",
            "175/175 [==============================] - 6s 36ms/step - loss: 0.3522 - accuracy: 0.8681 - val_loss: 0.5650 - val_accuracy: 0.8085 - lr: 1.0000e-04\n",
            "Epoch 48/60\n",
            "175/175 [==============================] - 7s 42ms/step - loss: 0.3394 - accuracy: 0.8732 - val_loss: 0.5601 - val_accuracy: 0.8110 - lr: 1.0000e-04\n",
            "Epoch 49/60\n",
            "175/175 [==============================] - ETA: 0s - loss: 0.3415 - accuracy: 0.8721\n",
            "Epoch 49: ReduceLROnPlateau reducing learning rate to 1.0000000474974514e-05.\n",
            "175/175 [==============================] - 8s 44ms/step - loss: 0.3415 - accuracy: 0.8721 - val_loss: 0.5612 - val_accuracy: 0.8136 - lr: 1.0000e-04\n",
            "Epoch 50/60\n",
            "175/175 [==============================] - 6s 35ms/step - loss: 0.3358 - accuracy: 0.8766 - val_loss: 0.5600 - val_accuracy: 0.8107 - lr: 1.0000e-05\n",
            "Epoch 51/60\n",
            "175/175 [==============================] - 7s 42ms/step - loss: 0.3371 - accuracy: 0.8745 - val_loss: 0.5600 - val_accuracy: 0.8114 - lr: 1.0000e-05\n",
            "Epoch 52/60\n",
            "175/175 [==============================] - 8s 44ms/step - loss: 0.3383 - accuracy: 0.8780 - val_loss: 0.5600 - val_accuracy: 0.8114 - lr: 1.0000e-05\n",
            "Epoch 53/60\n",
            "175/175 [==============================] - 6s 36ms/step - loss: 0.3378 - accuracy: 0.8746 - val_loss: 0.5597 - val_accuracy: 0.8118 - lr: 1.0000e-05\n",
            "Epoch 54/60\n",
            "174/175 [============================>.] - ETA: 0s - loss: 0.3397 - accuracy: 0.8729\n",
            "Epoch 54: ReduceLROnPlateau reducing learning rate to 1.0000000656873453e-06.\n",
            "175/175 [==============================] - 6s 36ms/step - loss: 0.3402 - accuracy: 0.8729 - val_loss: 0.5596 - val_accuracy: 0.8114 - lr: 1.0000e-05\n",
            "Epoch 55/60\n",
            "175/175 [==============================] - 7s 38ms/step - loss: 0.3428 - accuracy: 0.8707 - val_loss: 0.5596 - val_accuracy: 0.8114 - lr: 1.0000e-06\n",
            "Epoch 56/60\n",
            "175/175 [==============================] - 7s 42ms/step - loss: 0.3419 - accuracy: 0.8754 - val_loss: 0.5596 - val_accuracy: 0.8118 - lr: 1.0000e-06\n",
            "Epoch 57/60\n",
            "175/175 [==============================] - 6s 35ms/step - loss: 0.3445 - accuracy: 0.8720 - val_loss: 0.5596 - val_accuracy: 0.8118 - lr: 1.0000e-06\n",
            "Epoch 58/60\n",
            "175/175 [==============================] - 7s 39ms/step - loss: 0.3419 - accuracy: 0.8711 - val_loss: 0.5596 - val_accuracy: 0.8121 - lr: 1.0000e-06\n",
            "Epoch 59/60\n",
            "175/175 [==============================] - ETA: 0s - loss: 0.3382 - accuracy: 0.8741\n",
            "Epoch 59: ReduceLROnPlateau reducing learning rate to 1.0000001111620805e-07.\n",
            "175/175 [==============================] - 6s 35ms/step - loss: 0.3382 - accuracy: 0.8741 - val_loss: 0.5597 - val_accuracy: 0.8118 - lr: 1.0000e-06\n",
            "Epoch 60/60\n",
            "175/175 [==============================] - 9s 49ms/step - loss: 0.3397 - accuracy: 0.8727 - val_loss: 0.5597 - val_accuracy: 0.8118 - lr: 1.0000e-07\n"
          ]
        }
      ],
      "source": [
        "hist = model_2.fit_generator(train_generatorr,\n",
        "                      epochs=60,\n",
        "                      steps_per_epoch = train_generatorr.samples // 64,\n",
        "                      validation_data = validation_generator,\n",
        "                      validation_steps = validation_generator.samples // 64,\n",
        "                      callbacks=[lrr],verbose=1)"
      ]
    },
    {
      "cell_type": "code",
      "execution_count": 102,
      "id": "e39cc4e4",
      "metadata": {
        "colab": {
          "base_uri": "https://localhost:8080/",
          "height": 295
        },
        "id": "e39cc4e4",
        "outputId": "6cf570c8-0256-4c95-9588-1042c0d0cb10"
      },
      "outputs": [
        {
          "output_type": "display_data",
          "data": {
            "text/plain": [
              "<Figure size 432x288 with 1 Axes>"
            ],
            "image/png": "[encoded data removed]"
          },
          "metadata": {
            "needs_background": "light"
          }
        }
      ],
      "source": [
        "plt.plot(hist.history['accuracy'])\n",
        "plt.plot(hist.history['val_accuracy'])\n",
        "plt.title('model accuracy')\n",
        "plt.ylabel('accuracy')\n",
        "plt.xlabel('epoch')\n",
        "plt.legend(['train', 'validation'], loc='upper left')\n",
        "plt.show()"
      ]
    },
    {
      "cell_type": "code",
      "execution_count": 103,
      "id": "0aa2034e",
      "metadata": {
        "colab": {
          "base_uri": "https://localhost:8080/",
          "height": 295
        },
        "id": "0aa2034e",
        "outputId": "644f1c33-b44d-4deb-d247-d545f68b896e"
      },
      "outputs": [
        {
          "output_type": "display_data",
          "data": {
            "text/plain": [
              "<Figure size 432x288 with 1 Axes>"
            ],
            "image/png": "[encoded data removed]"
          },
          "metadata": {
            "needs_background": "light"
          }
        }
      ],
      "source": [
        "# summarize history for loss\n",
        "plt.plot(hist.history['loss'])\n",
        "plt.plot(hist.history['val_loss'])\n",
        "plt.title('model loss')\n",
        "plt.ylabel('loss')\n",
        "plt.xlabel('epoch')\n",
        "plt.legend(['train', 'validation'], loc='upper right')\n",
        "plt.show()"
      ]
    },
    {
      "cell_type": "code",
      "source": [
        "predict = model_2.evaluate(test_generatorr)\n",
        "# predict the class label\n",
        "print(predict)"
      ],
      "metadata": {
        "colab": {
          "base_uri": "https://localhost:8080/"
        },
        "id": "W44ycm57VfdS",
        "outputId": "c924da58-a0de-4ee8-89bf-ad18fe40b754"
      },
      "id": "W44ycm57VfdS",
      "execution_count": 104,
      "outputs": [
        {
          "output_type": "stream",
          "name": "stdout",
          "text": [
            "3000/3000 [==============================] - 38s 12ms/step - loss: 0.5330 - accuracy: 0.8093\n",
            "[0.5330462455749512, 0.809333324432373]\n"
          ]
        }
      ]
    },
    {
      "cell_type": "code",
      "source": [],
      "metadata": {
        "id": "t0mYoII9Z_01"
      },
      "id": "t0mYoII9Z_01",
      "execution_count": null,
      "outputs": []
    }
  ],
  "metadata": {
    "kernelspec": {
      "display_name": "Python 3 (ipykernel)",
      "language": "python",
      "name": "python3"
    },
    "language_info": {
      "codemirror_mode": {
        "name": "ipython",
        "version": 3
      },
      "file_extension": ".py",
      "mimetype": "text/x-python",
      "name": "python",
      "nbconvert_exporter": "python",
      "pygments_lexer": "ipython3",
      "version": "3.9.13"
    },
    "colab": {
      "provenance": []
    },
    "accelerator": "GPU",
    "gpuClass": "standard"
  },
  "nbformat": 4,
  "nbformat_minor": 5
}