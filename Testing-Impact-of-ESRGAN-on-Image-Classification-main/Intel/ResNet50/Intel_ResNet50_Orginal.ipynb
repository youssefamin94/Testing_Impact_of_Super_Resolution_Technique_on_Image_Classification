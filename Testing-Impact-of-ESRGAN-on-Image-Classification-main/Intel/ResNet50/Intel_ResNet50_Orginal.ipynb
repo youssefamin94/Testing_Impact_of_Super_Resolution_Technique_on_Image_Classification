{
  "cells": [
    {
      "cell_type": "code",
      "source": [
        "from google.colab import drive\n",
        "drive.mount('/content/drive')"
      ],
      "metadata": {
        "colab": {
          "base_uri": "https://localhost:8080/"
        },
        "id": "D3Ia0U52FiwQ",
        "outputId": "b3f69807-f5c6-41a1-81fc-622278a56d0a"
      },
      "id": "D3Ia0U52FiwQ",
      "execution_count": 1,
      "outputs": [
        {
          "output_type": "stream",
          "name": "stdout",
          "text": [
            "Mounted at /content/drive\n"
          ]
        }
      ]
    },
    {
      "cell_type": "code",
      "source": [
        "!unzip /content/drive/MyDrive/Intel_Images.zip"
      ],
      "metadata": {
        "id": "t59C9xfLFili"
      },
      "id": "t59C9xfLFili",
      "execution_count": null,
      "outputs": []
    },
    {
      "cell_type": "code",
      "execution_count": 3,
      "id": "331622b1",
      "metadata": {
        "id": "331622b1"
      },
      "outputs": [],
      "source": [
        "import numpy as np # linear algebra\n",
        "import pandas as pd # data processing, CSV file I/O (e.g. pd.read_csv)\n",
        "from sklearn.utils.multiclass import unique_labels\n",
        "\n",
        "# Input data files are available in the \"../input/\" directory.\n",
        "# For example, running this (by clicking run or pressing Shift+Enter) will list the files in the input directory\n",
        "\n",
        "import os"
      ]
    },
    {
      "cell_type": "code",
      "execution_count": 4,
      "id": "0636c791",
      "metadata": {
        "id": "0636c791"
      },
      "outputs": [],
      "source": [
        "import matplotlib.pyplot as plt\n",
        "import matplotlib.image as mpimg\n",
        "import seaborn as sns\n",
        "%matplotlib inline\n",
        "''' to learn more about itertools visit\n",
        "    https://medium.com/@jasonrigden/a-guide-to-python-itertools-82e5a306cdf8'''\n",
        "import itertools\n",
        "from sklearn.model_selection import train_test_split\n",
        "from sklearn.metrics import confusion_matrix"
      ]
    },
    {
      "cell_type": "code",
      "execution_count": 5,
      "id": "3bc165d1",
      "metadata": {
        "id": "3bc165d1"
      },
      "outputs": [],
      "source": [
        "#Import keras functions\n",
        "\n",
        "from keras import Sequential\n",
        "\n",
        "'''Since we are using transfer learning let's import the model that we want to implement.Let's use VGG 19(19 layers) and Resnet-50 (50 layers of residual units). \n",
        "Residual units allow us to add more layers onto the model without a degradation in accuracy.\n",
        "Let's try and compare the accuracy of the 2 models and see if the addtional layers do make a significant difference. '''\n",
        "\n",
        "from keras.applications import VGG19,ResNet50\n",
        "\n",
        "'Import the datagenerator to augment images'\n",
        "from keras.preprocessing.image import ImageDataGenerator\n",
        "\n",
        "'''Import the optimizers and leanring rate annealer (which will reduce the learning rate once a particular metric we choose(in this case validation error) \n",
        "does not reduce after a user defined number of epochs)'''\n",
        "from keras.optimizers import SGD,Adam\n",
        "from keras.callbacks import ReduceLROnPlateau\n",
        "\n",
        "'Lastly import the final layers that will be added on top of the base model'\n",
        "from keras.layers import Flatten,Dense,BatchNormalization,Activation,Dropout\n",
        "\n",
        "'Import to_categorical from the keras utils package to one hot encode the labels'\n",
        "from keras.utils import to_categorical"
      ]
    },
    {
      "cell_type": "code",
      "execution_count": 6,
      "id": "61c92605",
      "metadata": {
        "id": "61c92605"
      },
      "outputs": [],
      "source": [
        "#Data Augmentation Function: Let's define an instance of the ImageDataGenerator class and set the parameters.We have to instantiate for the Train,Validation and Test datasets\n",
        "train_generator = ImageDataGenerator()\n",
        "\n",
        "val_generator = ImageDataGenerator()\n",
        "\n",
        "test_generator = ImageDataGenerator() "
      ]
    },
    {
      "cell_type": "code",
      "execution_count": 7,
      "id": "790a26b5",
      "metadata": {
        "id": "790a26b5"
      },
      "outputs": [],
      "source": [
        "src_path_train = \"/content/Intel Images/train\"\n",
        "src_path_val = \"/content/Intel Images/val\"\n",
        "src_path_test = \"/content/Intel Images/test\""
      ]
    },
    {
      "cell_type": "code",
      "execution_count": 8,
      "id": "e0f33a4e",
      "metadata": {
        "colab": {
          "base_uri": "https://localhost:8080/"
        },
        "id": "e0f33a4e",
        "outputId": "841bb055-a995-4609-a238-6576680e50ca"
      },
      "outputs": [
        {
          "output_type": "stream",
          "name": "stdout",
          "text": [
            "Found 11224 images belonging to 6 classes.\n",
            "Found 2810 images belonging to 6 classes.\n",
            "Found 3000 images belonging to 6 classes.\n"
          ]
        }
      ],
      "source": [
        "#Fit the augmentation method to the data\n",
        "train_generatorr = train_generator.flow_from_directory(src_path_train,\n",
        "                                                    class_mode='categorical',\n",
        "                                                    batch_size=64,\n",
        "                                                    color_mode=\"rgb\",\n",
        "                                                    target_size=(150,150),\n",
        "                                                    shuffle=False,\n",
        "                                                    seed=42)\n",
        "\n",
        "validation_generator = train_generator.flow_from_directory(src_path_val,\n",
        "                                                        target_size=(150,150),\n",
        "                                                        batch_size=64,\n",
        "                                                        color_mode=\"rgb\",\n",
        "                                                        class_mode='categorical',\n",
        "                                                        shuffle=False,\n",
        "                                                        seed=42)\n",
        "test_generatorr = test_generator.flow_from_directory(\n",
        "    src_path_test,\n",
        "    target_size=(150,150),\n",
        "    color_mode=\"rgb\",\n",
        "    batch_size=1,\n",
        "    class_mode=\"categorical\",\n",
        "    shuffle=False,\n",
        "    seed=42\n",
        ")"
      ]
    },
    {
      "cell_type": "code",
      "execution_count": 32,
      "id": "a8fa2c81",
      "metadata": {
        "id": "a8fa2c81"
      },
      "outputs": [],
      "source": [
        "lrr= ReduceLROnPlateau(verbose = 1,\n",
        "                       monitor='val_loss', #Metric to be measured\n",
        "                       factor=.1, #Factor by which learning rate will be reduced\n",
        "                       patience=4,  #No. of epochs after which if there is no improvement in the val_acc, the learning rate is reduced\n",
        "                       min_lr=1e-7,\n",
        "                       min_delta = 0.001) #The minimum learning rate "
      ]
    },
    {
      "cell_type": "code",
      "execution_count": 44,
      "id": "48ae1e2f",
      "metadata": {
        "id": "48ae1e2f"
      },
      "outputs": [],
      "source": [
        "base_model_2 = ResNet50(include_top=False,weights='imagenet',input_shape=(150,150,3),classes=6)"
      ]
    },
    {
      "cell_type": "code",
      "execution_count": 45,
      "id": "991b8ea3",
      "metadata": {
        "id": "991b8ea3"
      },
      "outputs": [],
      "source": [
        "#Since we have already defined Resnet50 as base_model_2, let us build the sequential model.\n",
        "\n",
        "model_2=Sequential()\n",
        "#Add the Dense layers along with activation and batch normalization\n",
        "model_2.add(base_model_2)\n",
        "model_2.add(Flatten())\n",
        "\n",
        "\n",
        "#Add the Dense layers along with activation and batch normalization\n",
        "model_2.add(Dense(128,activation=('relu')))\n",
        "model_2.add(Dropout(.5, seed = 42))\n",
        "model_2.add(Dense(64,activation=('relu')))\n",
        "model_2.add(Dense(6,activation=('softmax'))) #This is the classification layer"
      ]
    },
    {
      "cell_type": "code",
      "source": [
        "model_2.layers[0].trainable = False"
      ],
      "metadata": {
        "id": "p6-AShQzJ6YI"
      },
      "id": "p6-AShQzJ6YI",
      "execution_count": 46,
      "outputs": []
    },
    {
      "cell_type": "code",
      "execution_count": 47,
      "id": "e2e49c94",
      "metadata": {
        "colab": {
          "base_uri": "https://localhost:8080/"
        },
        "id": "e2e49c94",
        "outputId": "8b816095-171d-41b8-ff18-839dcf894bda"
      },
      "outputs": [
        {
          "output_type": "stream",
          "name": "stdout",
          "text": [
            "Model: \"sequential_4\"\n",
            "_________________________________________________________________\n",
            " Layer (type)                Output Shape              Param #   \n",
            "=================================================================\n",
            " resnet50 (Functional)       (None, 5, 5, 2048)        23587712  \n",
            "                                                                 \n",
            " flatten_4 (Flatten)         (None, 51200)             0         \n",
            "                                                                 \n",
            " dense_12 (Dense)            (None, 128)               6553728   \n",
            "                                                                 \n",
            " dropout_4 (Dropout)         (None, 128)               0         \n",
            "                                                                 \n",
            " dense_13 (Dense)            (None, 64)                8256      \n",
            "                                                                 \n",
            " dense_14 (Dense)            (None, 6)                 390       \n",
            "                                                                 \n",
            "=================================================================\n",
            "Total params: 30,150,086\n",
            "Trainable params: 6,562,374\n",
            "Non-trainable params: 23,587,712\n",
            "_________________________________________________________________\n"
          ]
        }
      ],
      "source": [
        "model_2.summary()"
      ]
    },
    {
      "cell_type": "code",
      "execution_count": 48,
      "id": "9a263abd",
      "metadata": {
        "id": "9a263abd"
      },
      "outputs": [],
      "source": [
        "learn_rate=.0001\n",
        "\n",
        "sgd=SGD(lr=learn_rate,momentum=.9,nesterov=False)\n",
        "adam=Adam(lr=learn_rate, beta_1=0.9, beta_2=0.999, epsilon=None, decay=0.0, amsgrad=False)"
      ]
    },
    {
      "cell_type": "code",
      "execution_count": 49,
      "id": "ae54c544",
      "metadata": {
        "id": "ae54c544"
      },
      "outputs": [],
      "source": [
        "model_2.compile(optimizer=sgd,loss='categorical_crossentropy',metrics=['accuracy'])"
      ]
    },
    {
      "cell_type": "code",
      "execution_count": 50,
      "id": "fc23e1e9",
      "metadata": {
        "colab": {
          "base_uri": "https://localhost:8080/"
        },
        "id": "fc23e1e9",
        "outputId": "c689501e-9df0-4269-ced6-9413b66c0eb6"
      },
      "outputs": [
        {
          "output_type": "stream",
          "name": "stdout",
          "text": [
            "Epoch 1/25\n"
          ]
        },
        {
          "output_type": "stream",
          "name": "stderr",
          "text": [
            "<ipython-input-50-df9fa6d50961>:1: UserWarning: `Model.fit_generator` is deprecated and will be removed in a future version. Please use `Model.fit`, which supports generators.\n",
            "  hist = model_2.fit_generator(train_generatorr,\n"
          ]
        },
        {
          "output_type": "stream",
          "name": "stdout",
          "text": [
            "175/175 [==============================] - 36s 188ms/step - loss: 1.0354 - accuracy: 0.6582 - val_loss: 0.4888 - val_accuracy: 0.8419 - lr: 1.0000e-04\n",
            "Epoch 2/25\n",
            "175/175 [==============================] - 24s 140ms/step - loss: 0.4804 - accuracy: 0.8303 - val_loss: 0.3879 - val_accuracy: 0.8576 - lr: 1.0000e-04\n",
            "Epoch 3/25\n",
            "175/175 [==============================] - 24s 139ms/step - loss: 0.3833 - accuracy: 0.8651 - val_loss: 0.3563 - val_accuracy: 0.8754 - lr: 1.0000e-04\n",
            "Epoch 4/25\n",
            "175/175 [==============================] - 24s 139ms/step - loss: 0.3618 - accuracy: 0.8747 - val_loss: 0.3594 - val_accuracy: 0.8786 - lr: 1.0000e-04\n",
            "Epoch 5/25\n",
            "175/175 [==============================] - 26s 151ms/step - loss: 0.3179 - accuracy: 0.8899 - val_loss: 0.3379 - val_accuracy: 0.8884 - lr: 1.0000e-04\n",
            "Epoch 6/25\n",
            "175/175 [==============================] - 25s 141ms/step - loss: 0.2879 - accuracy: 0.9004 - val_loss: 0.3270 - val_accuracy: 0.8928 - lr: 1.0000e-04\n",
            "Epoch 7/25\n",
            "175/175 [==============================] - 24s 138ms/step - loss: 0.2745 - accuracy: 0.9014 - val_loss: 0.3190 - val_accuracy: 0.8990 - lr: 1.0000e-04\n",
            "Epoch 8/25\n",
            "175/175 [==============================] - 24s 138ms/step - loss: 0.2622 - accuracy: 0.9057 - val_loss: 0.3259 - val_accuracy: 0.8953 - lr: 1.0000e-04\n",
            "Epoch 9/25\n",
            "175/175 [==============================] - 25s 140ms/step - loss: 0.2324 - accuracy: 0.9158 - val_loss: 0.3347 - val_accuracy: 0.8953 - lr: 1.0000e-04\n",
            "Epoch 10/25\n",
            "175/175 [==============================] - 24s 137ms/step - loss: 0.2278 - accuracy: 0.9196 - val_loss: 0.3337 - val_accuracy: 0.8968 - lr: 1.0000e-04\n",
            "Epoch 11/25\n",
            "175/175 [==============================] - ETA: 0s - loss: 0.2110 - accuracy: 0.9251\n",
            "Epoch 11: ReduceLROnPlateau reducing learning rate to 9.999999747378752e-06.\n",
            "175/175 [==============================] - 25s 140ms/step - loss: 0.2110 - accuracy: 0.9251 - val_loss: 0.3249 - val_accuracy: 0.9004 - lr: 1.0000e-04\n",
            "Epoch 12/25\n",
            "175/175 [==============================] - 24s 140ms/step - loss: 0.1869 - accuracy: 0.9347 - val_loss: 0.3260 - val_accuracy: 0.9001 - lr: 1.0000e-05\n",
            "Epoch 13/25\n",
            "175/175 [==============================] - 25s 142ms/step - loss: 0.1789 - accuracy: 0.9373 - val_loss: 0.3198 - val_accuracy: 0.9044 - lr: 1.0000e-05\n",
            "Epoch 14/25\n",
            "175/175 [==============================] - 24s 137ms/step - loss: 0.1773 - accuracy: 0.9392 - val_loss: 0.3204 - val_accuracy: 0.9044 - lr: 1.0000e-05\n",
            "Epoch 15/25\n",
            "175/175 [==============================] - ETA: 0s - loss: 0.1761 - accuracy: 0.9372\n",
            "Epoch 15: ReduceLROnPlateau reducing learning rate to 9.999999747378752e-07.\n",
            "175/175 [==============================] - 24s 140ms/step - loss: 0.1761 - accuracy: 0.9372 - val_loss: 0.3205 - val_accuracy: 0.9044 - lr: 1.0000e-05\n",
            "Epoch 16/25\n",
            "175/175 [==============================] - 25s 144ms/step - loss: 0.1747 - accuracy: 0.9413 - val_loss: 0.3199 - val_accuracy: 0.9052 - lr: 1.0000e-06\n",
            "Epoch 17/25\n",
            "175/175 [==============================] - 24s 139ms/step - loss: 0.1714 - accuracy: 0.9409 - val_loss: 0.3199 - val_accuracy: 0.9048 - lr: 1.0000e-06\n",
            "Epoch 18/25\n",
            "175/175 [==============================] - 24s 139ms/step - loss: 0.1753 - accuracy: 0.9386 - val_loss: 0.3199 - val_accuracy: 0.9052 - lr: 1.0000e-06\n",
            "Epoch 19/25\n",
            "175/175 [==============================] - ETA: 0s - loss: 0.1727 - accuracy: 0.9407\n",
            "Epoch 19: ReduceLROnPlateau reducing learning rate to 1e-07.\n",
            "175/175 [==============================] - 24s 138ms/step - loss: 0.1727 - accuracy: 0.9407 - val_loss: 0.3199 - val_accuracy: 0.9044 - lr: 1.0000e-06\n",
            "Epoch 20/25\n",
            "175/175 [==============================] - 24s 139ms/step - loss: 0.1727 - accuracy: 0.9400 - val_loss: 0.3198 - val_accuracy: 0.9044 - lr: 1.0000e-07\n",
            "Epoch 21/25\n",
            "175/175 [==============================] - 25s 141ms/step - loss: 0.1739 - accuracy: 0.9394 - val_loss: 0.3198 - val_accuracy: 0.9044 - lr: 1.0000e-07\n",
            "Epoch 22/25\n",
            "175/175 [==============================] - 25s 140ms/step - loss: 0.1716 - accuracy: 0.9407 - val_loss: 0.3198 - val_accuracy: 0.9044 - lr: 1.0000e-07\n",
            "Epoch 23/25\n",
            "175/175 [==============================] - 24s 140ms/step - loss: 0.1729 - accuracy: 0.9389 - val_loss: 0.3198 - val_accuracy: 0.9048 - lr: 1.0000e-07\n",
            "Epoch 24/25\n",
            "175/175 [==============================] - 24s 139ms/step - loss: 0.1732 - accuracy: 0.9389 - val_loss: 0.3198 - val_accuracy: 0.9048 - lr: 1.0000e-07\n",
            "Epoch 25/25\n",
            "175/175 [==============================] - 24s 138ms/step - loss: 0.1683 - accuracy: 0.9418 - val_loss: 0.3198 - val_accuracy: 0.9048 - lr: 1.0000e-07\n"
          ]
        }
      ],
      "source": [
        "hist = model_2.fit_generator(train_generatorr,\n",
        "                      epochs=25,\n",
        "                      steps_per_epoch = train_generatorr.samples // 64,\n",
        "                      validation_data = validation_generator,\n",
        "                      validation_steps = validation_generator.samples // 64,\n",
        "                      callbacks=[lrr],verbose=1)"
      ]
    },
    {
      "cell_type": "code",
      "execution_count": 51,
      "id": "e39cc4e4",
      "metadata": {
        "colab": {
          "base_uri": "https://localhost:8080/",
          "height": 295
        },
        "id": "e39cc4e4",
        "outputId": "bb87e27e-351a-45a2-c80d-8affff5b5484"
      },
      "outputs": [
        {
          "output_type": "display_data",
          "data": {
            "text/plain": [
              "<Figure size 432x288 with 1 Axes>"
            ],
            "image/png": "[encoded data removed]"
          },
          "metadata": {
            "needs_background": "light"
          }
        }
      ],
      "source": [
        "plt.plot(hist.history['accuracy'])\n",
        "plt.plot(hist.history['val_accuracy'])\n",
        "plt.title('model accuracy')\n",
        "plt.ylabel('accuracy')\n",
        "plt.xlabel('epoch')\n",
        "plt.legend(['train', 'validation'], loc='upper left')\n",
        "plt.show()"
      ]
    },
    {
      "cell_type": "code",
      "execution_count": 52,
      "id": "0aa2034e",
      "metadata": {
        "colab": {
          "base_uri": "https://localhost:8080/",
          "height": 295
        },
        "id": "0aa2034e",
        "outputId": "23ded1fc-9a59-407f-9a94-59cc55841cfa"
      },
      "outputs": [
        {
          "output_type": "display_data",
          "data": {
            "text/plain": [
              "<Figure size 432x288 with 1 Axes>"
            ],
            "image/png": "[encoded data removed]"
          },
          "metadata": {
            "needs_background": "light"
          }
        }
      ],
      "source": [
        "# summarize history for loss\n",
        "plt.plot(hist.history['loss'])\n",
        "plt.plot(hist.history['val_loss'])\n",
        "plt.title('model loss')\n",
        "plt.ylabel('loss')\n",
        "plt.xlabel('epoch')\n",
        "plt.legend(['train', 'validation'], loc='upper right')\n",
        "plt.show()"
      ]
    },
    {
      "cell_type": "code",
      "source": [
        "predict = model_2.evaluate(test_generatorr)\n",
        "# predict the class label\n",
        "print(predict)"
      ],
      "metadata": {
        "colab": {
          "base_uri": "https://localhost:8080/"
        },
        "id": "W44ycm57VfdS",
        "outputId": "2ddb3f4f-6e18-4557-8265-64023256f584"
      },
      "id": "W44ycm57VfdS",
      "execution_count": 53,
      "outputs": [
        {
          "output_type": "stream",
          "name": "stdout",
          "text": [
            "3000/3000 [==============================] - 39s 13ms/step - loss: 0.2829 - accuracy: 0.9123\n",
            "[0.2829269468784332, 0.9123333096504211]\n"
          ]
        }
      ]
    },
    {
      "cell_type": "code",
      "source": [
        "model_2.save(\"model_INTEL_Orginal.h5\")"
      ],
      "metadata": {
        "id": "t0mYoII9Z_01"
      },
      "id": "t0mYoII9Z_01",
      "execution_count": 54,
      "outputs": []
    },
    {
      "cell_type": "code",
      "source": [],
      "metadata": {
        "id": "YLs42NUOqsQK"
      },
      "id": "YLs42NUOqsQK",
      "execution_count": null,
      "outputs": []
    }
  ],
  "metadata": {
    "kernelspec": {
      "display_name": "Python 3 (ipykernel)",
      "language": "python",
      "name": "python3"
    },
    "language_info": {
      "codemirror_mode": {
        "name": "ipython",
        "version": 3
      },
      "file_extension": ".py",
      "mimetype": "text/x-python",
      "name": "python",
      "nbconvert_exporter": "python",
      "pygments_lexer": "ipython3",
      "version": "3.9.13"
    },
    "colab": {
      "provenance": []
    },
    "accelerator": "GPU",
    "gpuClass": "standard"
  },
  "nbformat": 4,
  "nbformat_minor": 5
}