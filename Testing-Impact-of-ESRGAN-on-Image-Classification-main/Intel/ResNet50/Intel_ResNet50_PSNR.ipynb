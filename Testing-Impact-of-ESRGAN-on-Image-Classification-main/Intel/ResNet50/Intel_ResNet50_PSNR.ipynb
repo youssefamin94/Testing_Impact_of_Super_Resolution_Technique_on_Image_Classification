{
  "nbformat": 4,
  "nbformat_minor": 0,
  "metadata": {
    "colab": {
      "provenance": []
    },
    "kernelspec": {
      "name": "python3",
      "display_name": "Python 3"
    },
    "language_info": {
      "name": "python"
    },
    "accelerator": "GPU",
    "gpuClass": "standard"
  },
  "cells": [
    {
      "cell_type": "code",
      "source": [
        "from google.colab import drive\n",
        "drive.mount('/content/drive')"
      ],
      "metadata": {
        "colab": {
          "base_uri": "https://localhost:8080/"
        },
        "id": "64k4d5F5kVYL",
        "outputId": "bc65d667-f511-4dcf-9a9f-9e9874854d3a"
      },
      "execution_count": 1,
      "outputs": [
        {
          "output_type": "stream",
          "name": "stdout",
          "text": [
            "Mounted at /content/drive\n"
          ]
        }
      ]
    },
    {
      "cell_type": "code",
      "source": [
        "!unzip /content/drive/MyDrive/Intel_images_psnr.zip"
      ],
      "metadata": {
        "id": "8Hjlr6tNv04V"
      },
      "execution_count": null,
      "outputs": []
    },
    {
      "cell_type": "code",
      "source": [
        "import numpy as np # linear algebra\n",
        "import pandas as pd # data processing, CSV file I/O (e.g. pd.read_csv)\n",
        "from sklearn.utils.multiclass import unique_labels\n",
        "\n",
        "# Input data files are available in the \"../input/\" directory.\n",
        "# For example, running this (by clicking run or pressing Shift+Enter) will list the files in the input directory\n",
        "\n",
        "import os"
      ],
      "metadata": {
        "id": "UCLgz87b1PzJ"
      },
      "execution_count": 3,
      "outputs": []
    },
    {
      "cell_type": "code",
      "source": [
        "import matplotlib.pyplot as plt\n",
        "import matplotlib.image as mpimg\n",
        "import seaborn as sns\n",
        "%matplotlib inline\n",
        "''' to learn more about itertools visit\n",
        "    https://medium.com/@jasonrigden/a-guide-to-python-itertools-82e5a306cdf8'''\n",
        "import itertools\n",
        "from sklearn.model_selection import train_test_split\n",
        "from sklearn.metrics import confusion_matrix"
      ],
      "metadata": {
        "id": "Ku4d5OrR1siT"
      },
      "execution_count": 4,
      "outputs": []
    },
    {
      "cell_type": "code",
      "source": [
        "#Import keras functions\n",
        "\n",
        "from keras import Sequential\n",
        "\n",
        "'''Since we are using transfer learning let's import the model that we want to implement.Let's use VGG 19(19 layers) and Resnet-50 (50 layers of residual units). \n",
        "Residual units allow us to add more layers onto the model without a degradation in accuracy.\n",
        "Let's try and compare the accuracy of the 2 models and see if the addtional layers do make a significant difference. '''\n",
        "\n",
        "from keras.applications import VGG19,ResNet50\n",
        "\n",
        "'Import the datagenerator to augment images'\n",
        "from keras.preprocessing.image import ImageDataGenerator\n",
        "\n",
        "'''Import the optimizers and leanring rate annealer (which will reduce the learning rate once a particular metric we choose(in this case validation error) \n",
        "does not reduce after a user defined number of epochs)'''\n",
        "from keras.optimizers import SGD,Adam\n",
        "from keras.callbacks import ReduceLROnPlateau\n",
        "\n",
        "'Lastly import the final layers that will be added on top of the base model'\n",
        "from keras.layers import Flatten,Dense,BatchNormalization,Activation,Dropout\n",
        "\n",
        "'Import to_categorical from the keras utils package to one hot encode the labels'\n",
        "from keras.utils import to_categorical"
      ],
      "metadata": {
        "id": "_8VKfz1u1tyr"
      },
      "execution_count": 5,
      "outputs": []
    },
    {
      "cell_type": "code",
      "source": [
        "#Data Augmentation Function: Let's define an instance of the ImageDataGenerator class and set the parameters.We have to instantiate for the Train,Validation and Test datasets\n",
        "train_generator = ImageDataGenerator()\n",
        "\n",
        "val_generator = ImageDataGenerator()\n",
        "\n",
        "test_generator = ImageDataGenerator() "
      ],
      "metadata": {
        "id": "CF8ekDdC1vRD"
      },
      "execution_count": 6,
      "outputs": []
    },
    {
      "cell_type": "code",
      "source": [
        "src_path_train = \"/content/Intel_images_psnr/train\"\n",
        "src_path_val = \"/content/Intel_images_psnr/val\"\n",
        "src_path_test = \"/content/Intel_images_psnr/test\""
      ],
      "metadata": {
        "id": "0hktQRUj1wgt"
      },
      "execution_count": 7,
      "outputs": []
    },
    {
      "cell_type": "code",
      "source": [
        "#Fit the augmentation method to the data\n",
        "train_generatorr = train_generator.flow_from_directory(src_path_train,\n",
        "                                                    class_mode='categorical',\n",
        "                                                    batch_size=64,\n",
        "                                                    color_mode=\"rgb\",\n",
        "                                                    target_size=(150,150),\n",
        "                                                    shuffle=False,\n",
        "                                                    seed=42)\n",
        "\n",
        "validation_generator = train_generator.flow_from_directory(src_path_val,\n",
        "                                                        target_size=(150,150),\n",
        "                                                        batch_size=64,\n",
        "                                                        color_mode=\"rgb\",\n",
        "                                                        class_mode='categorical',\n",
        "                                                        shuffle=False,\n",
        "                                                        seed=42)\n",
        "test_generatorr = test_generator.flow_from_directory(\n",
        "    src_path_test,\n",
        "    target_size=(150,150),\n",
        "    color_mode=\"rgb\",\n",
        "    batch_size=1,\n",
        "    class_mode=\"categorical\",\n",
        "    shuffle=False,\n",
        "    seed=42\n",
        ")"
      ],
      "metadata": {
        "colab": {
          "base_uri": "https://localhost:8080/"
        },
        "id": "ems5nfNj14RQ",
        "outputId": "5f11808a-972f-44b0-d88f-f24068ddcb4a"
      },
      "execution_count": 8,
      "outputs": [
        {
          "output_type": "stream",
          "name": "stdout",
          "text": [
            "Found 11224 images belonging to 6 classes.\n",
            "Found 2810 images belonging to 6 classes.\n",
            "Found 3000 images belonging to 6 classes.\n"
          ]
        }
      ]
    },
    {
      "cell_type": "code",
      "source": [
        "lrr= ReduceLROnPlateau(verbose = 1,\n",
        "                       monitor='val_loss', #Metric to be measured\n",
        "                       factor=.1, #Factor by which learning rate will be reduced\n",
        "                       patience=3,  #No. of epochs after which if there is no improvement in the val_acc, the learning rate is reduced\n",
        "                       min_lr=1e-7,\n",
        "                       min_delta = 0.001) #The minimum learning rate "
      ],
      "metadata": {
        "id": "dVKXRe1X2KKF"
      },
      "execution_count": 29,
      "outputs": []
    },
    {
      "cell_type": "code",
      "source": [
        "base_model_2 = ResNet50(include_top=False,weights='imagenet',input_shape=(150,150,3),classes=6)"
      ],
      "metadata": {
        "id": "6gFlzThs2MOM"
      },
      "execution_count": 30,
      "outputs": []
    },
    {
      "cell_type": "code",
      "source": [
        "#Since we have already defined Resnet50 as base_model_2, let us build the sequential model.\n",
        "\n",
        "model_2=Sequential()\n",
        "#Add the Dense layers along with activation and batch normalization\n",
        "model_2.add(base_model_2)\n",
        "model_2.add(Flatten())\n",
        "\n",
        "\n",
        "#Add the Dense layers along with activation and batch normalization\n",
        "model_2.add(Dense(128,activation=('relu')))\n",
        "model_2.add(Dropout(.3, seed = 42))\n",
        "model_2.add(Dense(64,activation=('relu')))\n",
        "model_2.add(Dropout(.3, seed = 42))\n",
        "model_2.add(Dense(6,activation=('softmax'))) #This is the classification layer"
      ],
      "metadata": {
        "id": "QEBrjziM2Neb"
      },
      "execution_count": 31,
      "outputs": []
    },
    {
      "cell_type": "code",
      "source": [
        "model_2.layers[0].trainable = False"
      ],
      "metadata": {
        "id": "CnY-eq8d2RQZ"
      },
      "execution_count": 32,
      "outputs": []
    },
    {
      "cell_type": "code",
      "source": [
        "model_2.summary()"
      ],
      "metadata": {
        "colab": {
          "base_uri": "https://localhost:8080/"
        },
        "id": "K9480N_Q2S2B",
        "outputId": "6066c83a-22ad-4c03-abb5-40ff96f604b1"
      },
      "execution_count": 33,
      "outputs": [
        {
          "output_type": "stream",
          "name": "stdout",
          "text": [
            "Model: \"sequential_3\"\n",
            "_________________________________________________________________\n",
            " Layer (type)                Output Shape              Param #   \n",
            "=================================================================\n",
            " resnet50 (Functional)       (None, 5, 5, 2048)        23587712  \n",
            "                                                                 \n",
            " flatten_3 (Flatten)         (None, 51200)             0         \n",
            "                                                                 \n",
            " dense_7 (Dense)             (None, 128)               6553728   \n",
            "                                                                 \n",
            " dropout_3 (Dropout)         (None, 128)               0         \n",
            "                                                                 \n",
            " dense_8 (Dense)             (None, 64)                8256      \n",
            "                                                                 \n",
            " dropout_4 (Dropout)         (None, 64)                0         \n",
            "                                                                 \n",
            " dense_9 (Dense)             (None, 6)                 390       \n",
            "                                                                 \n",
            "=================================================================\n",
            "Total params: 30,150,086\n",
            "Trainable params: 6,562,374\n",
            "Non-trainable params: 23,587,712\n",
            "_________________________________________________________________\n"
          ]
        }
      ]
    },
    {
      "cell_type": "code",
      "source": [
        "learn_rate=.0001\n",
        "\n",
        "sgd=SGD(lr=learn_rate,momentum=.9,nesterov=False)\n",
        "adam=Adam(lr=learn_rate, beta_1=0.9, beta_2=0.999, epsilon=None, decay=0.0, amsgrad=False)"
      ],
      "metadata": {
        "id": "v1QHk54m2UCX"
      },
      "execution_count": 34,
      "outputs": []
    },
    {
      "cell_type": "code",
      "source": [
        "model_2.compile(optimizer=adam,loss='categorical_crossentropy',metrics=['accuracy'])"
      ],
      "metadata": {
        "id": "p3iC8IlV2WA1"
      },
      "execution_count": 35,
      "outputs": []
    },
    {
      "cell_type": "code",
      "source": [
        "hist = model_2.fit_generator(train_generatorr,\n",
        "                      epochs=25,\n",
        "                      steps_per_epoch = train_generatorr.samples // 64,\n",
        "                      validation_data = validation_generator,\n",
        "                      validation_steps = validation_generator.samples // 64,\n",
        "                      callbacks=[lrr],verbose=1)"
      ],
      "metadata": {
        "colab": {
          "base_uri": "https://localhost:8080/"
        },
        "id": "vAXK6soh2X0Y",
        "outputId": "f786363e-5549-4ba0-93cd-c05ce9fc5472"
      },
      "execution_count": 36,
      "outputs": [
        {
          "output_type": "stream",
          "name": "stdout",
          "text": [
            "Epoch 1/25\n"
          ]
        },
        {
          "output_type": "stream",
          "name": "stderr",
          "text": [
            "<ipython-input-36-df9fa6d50961>:1: UserWarning: `Model.fit_generator` is deprecated and will be removed in a future version. Please use `Model.fit`, which supports generators.\n",
            "  hist = model_2.fit_generator(train_generatorr,\n"
          ]
        },
        {
          "output_type": "stream",
          "name": "stdout",
          "text": [
            "175/175 [==============================] - 31s 158ms/step - loss: 1.5539 - accuracy: 0.5023 - val_loss: 0.6644 - val_accuracy: 0.7758 - lr: 1.0000e-04\n",
            "Epoch 2/25\n",
            "175/175 [==============================] - 26s 148ms/step - loss: 0.8395 - accuracy: 0.7068 - val_loss: 0.6788 - val_accuracy: 0.7682 - lr: 1.0000e-04\n",
            "Epoch 3/25\n",
            "175/175 [==============================] - 25s 142ms/step - loss: 0.6779 - accuracy: 0.7601 - val_loss: 0.5581 - val_accuracy: 0.8034 - lr: 1.0000e-04\n",
            "Epoch 4/25\n",
            "175/175 [==============================] - 26s 147ms/step - loss: 0.5610 - accuracy: 0.8029 - val_loss: 0.5298 - val_accuracy: 0.8198 - lr: 1.0000e-04\n",
            "Epoch 5/25\n",
            "175/175 [==============================] - 27s 152ms/step - loss: 0.4885 - accuracy: 0.8317 - val_loss: 0.5750 - val_accuracy: 0.8067 - lr: 1.0000e-04\n",
            "Epoch 6/25\n",
            "175/175 [==============================] - 25s 142ms/step - loss: 0.4210 - accuracy: 0.8527 - val_loss: 0.5867 - val_accuracy: 0.8201 - lr: 1.0000e-04\n",
            "Epoch 7/25\n",
            "175/175 [==============================] - ETA: 0s - loss: 0.3672 - accuracy: 0.8695\n",
            "Epoch 7: ReduceLROnPlateau reducing learning rate to 9.999999747378752e-06.\n",
            "175/175 [==============================] - 27s 151ms/step - loss: 0.3672 - accuracy: 0.8695 - val_loss: 0.5841 - val_accuracy: 0.8201 - lr: 1.0000e-04\n",
            "Epoch 8/25\n",
            "175/175 [==============================] - 26s 148ms/step - loss: 0.2945 - accuracy: 0.8978 - val_loss: 0.4847 - val_accuracy: 0.8510 - lr: 1.0000e-05\n",
            "Epoch 9/25\n",
            "175/175 [==============================] - 26s 146ms/step - loss: 0.2603 - accuracy: 0.9083 - val_loss: 0.4933 - val_accuracy: 0.8510 - lr: 1.0000e-05\n",
            "Epoch 10/25\n",
            "175/175 [==============================] - 27s 154ms/step - loss: 0.2606 - accuracy: 0.9094 - val_loss: 0.4989 - val_accuracy: 0.8503 - lr: 1.0000e-05\n",
            "Epoch 11/25\n",
            "175/175 [==============================] - ETA: 0s - loss: 0.2437 - accuracy: 0.9132\n",
            "Epoch 11: ReduceLROnPlateau reducing learning rate to 9.999999747378752e-07.\n",
            "175/175 [==============================] - 25s 145ms/step - loss: 0.2437 - accuracy: 0.9132 - val_loss: 0.4959 - val_accuracy: 0.8561 - lr: 1.0000e-05\n",
            "Epoch 12/25\n",
            "175/175 [==============================] - 31s 175ms/step - loss: 0.2409 - accuracy: 0.9123 - val_loss: 0.4939 - val_accuracy: 0.8576 - lr: 1.0000e-06\n",
            "Epoch 13/25\n",
            "175/175 [==============================] - 27s 154ms/step - loss: 0.2426 - accuracy: 0.9135 - val_loss: 0.4936 - val_accuracy: 0.8565 - lr: 1.0000e-06\n",
            "Epoch 14/25\n",
            "175/175 [==============================] - ETA: 0s - loss: 0.2340 - accuracy: 0.9171\n",
            "Epoch 14: ReduceLROnPlateau reducing learning rate to 1e-07.\n",
            "175/175 [==============================] - 26s 148ms/step - loss: 0.2340 - accuracy: 0.9171 - val_loss: 0.4933 - val_accuracy: 0.8572 - lr: 1.0000e-06\n",
            "Epoch 15/25\n",
            "175/175 [==============================] - 27s 152ms/step - loss: 0.2379 - accuracy: 0.9141 - val_loss: 0.4932 - val_accuracy: 0.8576 - lr: 1.0000e-07\n",
            "Epoch 16/25\n",
            "175/175 [==============================] - 27s 154ms/step - loss: 0.2401 - accuracy: 0.9142 - val_loss: 0.4931 - val_accuracy: 0.8576 - lr: 1.0000e-07\n",
            "Epoch 17/25\n",
            "175/175 [==============================] - 30s 174ms/step - loss: 0.2360 - accuracy: 0.9140 - val_loss: 0.4930 - val_accuracy: 0.8579 - lr: 1.0000e-07\n",
            "Epoch 18/25\n",
            "175/175 [==============================] - 26s 146ms/step - loss: 0.2359 - accuracy: 0.9182 - val_loss: 0.4930 - val_accuracy: 0.8576 - lr: 1.0000e-07\n",
            "Epoch 19/25\n",
            "175/175 [==============================] - 26s 148ms/step - loss: 0.2323 - accuracy: 0.9162 - val_loss: 0.4929 - val_accuracy: 0.8572 - lr: 1.0000e-07\n",
            "Epoch 20/25\n",
            "175/175 [==============================] - 26s 150ms/step - loss: 0.2395 - accuracy: 0.9142 - val_loss: 0.4930 - val_accuracy: 0.8583 - lr: 1.0000e-07\n",
            "Epoch 21/25\n",
            "175/175 [==============================] - 27s 152ms/step - loss: 0.2284 - accuracy: 0.9217 - val_loss: 0.4931 - val_accuracy: 0.8583 - lr: 1.0000e-07\n",
            "Epoch 22/25\n",
            "175/175 [==============================] - 26s 147ms/step - loss: 0.2382 - accuracy: 0.9120 - val_loss: 0.4930 - val_accuracy: 0.8583 - lr: 1.0000e-07\n",
            "Epoch 23/25\n",
            "175/175 [==============================] - 28s 157ms/step - loss: 0.2328 - accuracy: 0.9163 - val_loss: 0.4929 - val_accuracy: 0.8579 - lr: 1.0000e-07\n",
            "Epoch 24/25\n",
            "175/175 [==============================] - 31s 177ms/step - loss: 0.2327 - accuracy: 0.9178 - val_loss: 0.4929 - val_accuracy: 0.8579 - lr: 1.0000e-07\n",
            "Epoch 25/25\n",
            "175/175 [==============================] - 25s 145ms/step - loss: 0.2327 - accuracy: 0.9178 - val_loss: 0.4928 - val_accuracy: 0.8583 - lr: 1.0000e-07\n"
          ]
        }
      ]
    },
    {
      "cell_type": "code",
      "source": [
        "plt.plot(hist.history['accuracy'])\n",
        "plt.plot(hist.history['val_accuracy'])\n",
        "plt.title('model accuracy')\n",
        "plt.ylabel('accuracy')\n",
        "plt.xlabel('epoch')\n",
        "plt.legend(['train', 'validation'], loc='upper left')\n",
        "plt.show()"
      ],
      "metadata": {
        "colab": {
          "base_uri": "https://localhost:8080/",
          "height": 295
        },
        "id": "9Vyiorcp2a76",
        "outputId": "6e37e61c-0758-4034-d265-0e6500e12f64"
      },
      "execution_count": 37,
      "outputs": [
        {
          "output_type": "display_data",
          "data": {
            "text/plain": [
              "<Figure size 432x288 with 1 Axes>"
            ],
            "image/png": "[encoded data removed]"
          },
          "metadata": {
            "needs_background": "light"
          }
        }
      ]
    },
    {
      "cell_type": "code",
      "source": [
        "# summarize history for loss\n",
        "plt.plot(hist.history['loss'])\n",
        "plt.plot(hist.history['val_loss'])\n",
        "plt.title('model loss')\n",
        "plt.ylabel('loss')\n",
        "plt.xlabel('epoch')\n",
        "plt.legend(['train', 'validation'], loc='upper right')\n",
        "plt.show()"
      ],
      "metadata": {
        "colab": {
          "base_uri": "https://localhost:8080/",
          "height": 295
        },
        "id": "wjEjypOB2dM5",
        "outputId": "e16becf4-7864-48ef-c3f7-981ce35a37f2"
      },
      "execution_count": 38,
      "outputs": [
        {
          "output_type": "display_data",
          "data": {
            "text/plain": [
              "<Figure size 432x288 with 1 Axes>"
            ],
            "image/png": "[encoded data removed]"
          },
          "metadata": {
            "needs_background": "light"
          }
        }
      ]
    },
    {
      "cell_type": "code",
      "source": [
        "predict = model_2.evaluate(test_generatorr)\n",
        "# predict the class label\n",
        "print(predict)"
      ],
      "metadata": {
        "colab": {
          "base_uri": "https://localhost:8080/"
        },
        "id": "bs8tzBFE2dZn",
        "outputId": "e855038f-8a24-48e7-804c-9e58ac0ea580"
      },
      "execution_count": 39,
      "outputs": [
        {
          "output_type": "stream",
          "name": "stdout",
          "text": [
            "3000/3000 [==============================] - 46s 15ms/step - loss: 0.4699 - accuracy: 0.8573\n",
            "[0.46988484263420105, 0.8573333621025085]\n"
          ]
        }
      ]
    },
    {
      "cell_type": "code",
      "source": [
        "model_2.save(\"model_INTEL_Enhanced_PSNR.h5\")"
      ],
      "metadata": {
        "id": "FUeY5nJV2e6v"
      },
      "execution_count": 40,
      "outputs": []
    }
  ]
}